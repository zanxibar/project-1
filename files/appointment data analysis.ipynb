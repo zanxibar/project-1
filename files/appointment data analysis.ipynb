{
 "cells": [
  {
   "cell_type": "markdown",
   "id": "f250eedd",
   "metadata": {
    "slideshow": {
     "slide_type": "slide"
    }
   },
   "source": [
    "# Project: Appointment dataset Analysis"
   ]
  },
  {
   "cell_type": "markdown",
   "id": "1523ed3b",
   "metadata": {
    "slideshow": {
     "slide_type": "slide"
    }
   },
   "source": [
    "## Introduction\n",
    "I will be working on the 'noshowappointments-kagglev2-may-2016.csv' dataset. The dataset provides information on patients and whether or not they showed up for their appointments"
   ]
  },
  {
   "cell_type": "markdown",
   "id": "dccb7fa8",
   "metadata": {},
   "source": [
    "## Questions\n",
    "## Below are the questions I  will be addressing\n",
    " \n",
    " \n",
    "\n",
    "1.\n",
    "* how many females and males are there in the dataset?\n",
    "* how many males and females showed up for their appointment  and what's the percentage ?\n",
    "* how many males and females missed their appointment  and what's the percentage?\n",
    "\n",
    "2.how many females received sms and showed up as against those that did not receive any sms but still showed up?\n",
    "\n",
    "3.\n",
    "* what percentage of females are diabetic?\n",
    "* are there female children who are diabetic? how many?\n",
    "* how many diabetics and alcoholics showed up for the appointment and how many did not?\n"
   ]
  },
  {
   "cell_type": "markdown",
   "id": "d57223d5",
   "metadata": {},
   "source": [
    "## Data Wrangling\n",
    "\n",
    "In this section of the report, I will load in the data, check for cleanliness, and then trim and clean the dataset for analysis. \n",
    "\n",
    "I will inspect the dataset and check for :\n",
    "* datatypes \n",
    "* missing data values or null values \n",
    "* duplicates \n",
    "* and among others where necessary "
   ]
  },
  {
   "cell_type": "markdown",
   "id": "eb95c4e5",
   "metadata": {
    "slideshow": {
     "slide_type": "slide"
    }
   },
   "source": [
    " Import the required packages \n",
    "and load the dataset \n"
   ]
  },
  {
   "cell_type": "code",
   "execution_count": 1,
   "id": "72860674",
   "metadata": {
    "slideshow": {
     "slide_type": "slide"
    }
   },
   "outputs": [],
   "source": [
    "# import the required packages\n",
    "# and load the dataset \n",
    "\n",
    "import pandas as pd\n",
    "import matplotlib.pyplot as plt\n",
    "import numpy as np\n",
    "%matplotlib inline\n",
    "\n",
    "df = pd.read_csv('noshowappointments-kagglev2-may-2016.csv')"
   ]
  },
  {
   "cell_type": "markdown",
   "id": "b153d2dc",
   "metadata": {
    "slideshow": {
     "slide_type": "slide"
    }
   },
   "source": [
    "### Inspect the dataset (General overview)"
   ]
  },
  {
   "cell_type": "code",
   "execution_count": 2,
   "id": "1bb10466",
   "metadata": {
    "scrolled": true,
    "slideshow": {
     "slide_type": "slide"
    }
   },
   "outputs": [
    {
     "data": {
      "text/html": [
       "<div>\n",
       "<style scoped>\n",
       "    .dataframe tbody tr th:only-of-type {\n",
       "        vertical-align: middle;\n",
       "    }\n",
       "\n",
       "    .dataframe tbody tr th {\n",
       "        vertical-align: top;\n",
       "    }\n",
       "\n",
       "    .dataframe thead th {\n",
       "        text-align: right;\n",
       "    }\n",
       "</style>\n",
       "<table border=\"1\" class=\"dataframe\">\n",
       "  <thead>\n",
       "    <tr style=\"text-align: right;\">\n",
       "      <th></th>\n",
       "      <th>PatientId</th>\n",
       "      <th>AppointmentID</th>\n",
       "      <th>Gender</th>\n",
       "      <th>ScheduledDay</th>\n",
       "      <th>AppointmentDay</th>\n",
       "      <th>Age</th>\n",
       "      <th>Neighbourhood</th>\n",
       "      <th>Scholarship</th>\n",
       "      <th>Hipertension</th>\n",
       "      <th>Diabetes</th>\n",
       "      <th>Alcoholism</th>\n",
       "      <th>Handcap</th>\n",
       "      <th>SMS_received</th>\n",
       "      <th>No-show</th>\n",
       "    </tr>\n",
       "  </thead>\n",
       "  <tbody>\n",
       "    <tr>\n",
       "      <th>0</th>\n",
       "      <td>2.987250e+13</td>\n",
       "      <td>5642903</td>\n",
       "      <td>F</td>\n",
       "      <td>2016-04-29T18:38:08Z</td>\n",
       "      <td>2016-04-29T00:00:00Z</td>\n",
       "      <td>62</td>\n",
       "      <td>JARDIM DA PENHA</td>\n",
       "      <td>0</td>\n",
       "      <td>1</td>\n",
       "      <td>0</td>\n",
       "      <td>0</td>\n",
       "      <td>0</td>\n",
       "      <td>0</td>\n",
       "      <td>No</td>\n",
       "    </tr>\n",
       "  </tbody>\n",
       "</table>\n",
       "</div>"
      ],
      "text/plain": [
       "      PatientId  AppointmentID Gender          ScheduledDay  \\\n",
       "0  2.987250e+13        5642903      F  2016-04-29T18:38:08Z   \n",
       "\n",
       "         AppointmentDay  Age    Neighbourhood  Scholarship  Hipertension  \\\n",
       "0  2016-04-29T00:00:00Z   62  JARDIM DA PENHA            0             1   \n",
       "\n",
       "   Diabetes  Alcoholism  Handcap  SMS_received No-show  \n",
       "0         0           0        0             0      No  "
      ]
     },
     "execution_count": 2,
     "metadata": {},
     "output_type": "execute_result"
    }
   ],
   "source": [
    "# print/look at the first line of the dataset \n",
    "df.head(1)"
   ]
  },
  {
   "cell_type": "code",
   "execution_count": 3,
   "id": "639a11dd",
   "metadata": {
    "slideshow": {
     "slide_type": "slide"
    }
   },
   "outputs": [
    {
     "data": {
      "text/html": [
       "<div>\n",
       "<style scoped>\n",
       "    .dataframe tbody tr th:only-of-type {\n",
       "        vertical-align: middle;\n",
       "    }\n",
       "\n",
       "    .dataframe tbody tr th {\n",
       "        vertical-align: top;\n",
       "    }\n",
       "\n",
       "    .dataframe thead th {\n",
       "        text-align: right;\n",
       "    }\n",
       "</style>\n",
       "<table border=\"1\" class=\"dataframe\">\n",
       "  <thead>\n",
       "    <tr style=\"text-align: right;\">\n",
       "      <th></th>\n",
       "      <th>PatientId</th>\n",
       "      <th>AppointmentID</th>\n",
       "      <th>Gender</th>\n",
       "      <th>ScheduledDay</th>\n",
       "      <th>AppointmentDay</th>\n",
       "      <th>Age</th>\n",
       "      <th>Neighbourhood</th>\n",
       "      <th>Scholarship</th>\n",
       "      <th>Hipertension</th>\n",
       "      <th>Diabetes</th>\n",
       "      <th>Alcoholism</th>\n",
       "      <th>Handcap</th>\n",
       "      <th>SMS_received</th>\n",
       "      <th>No-show</th>\n",
       "    </tr>\n",
       "  </thead>\n",
       "  <tbody>\n",
       "    <tr>\n",
       "      <th>0</th>\n",
       "      <td>2.987250e+13</td>\n",
       "      <td>5642903</td>\n",
       "      <td>F</td>\n",
       "      <td>2016-04-29T18:38:08Z</td>\n",
       "      <td>2016-04-29T00:00:00Z</td>\n",
       "      <td>62</td>\n",
       "      <td>JARDIM DA PENHA</td>\n",
       "      <td>0</td>\n",
       "      <td>1</td>\n",
       "      <td>0</td>\n",
       "      <td>0</td>\n",
       "      <td>0</td>\n",
       "      <td>0</td>\n",
       "      <td>No</td>\n",
       "    </tr>\n",
       "    <tr>\n",
       "      <th>1</th>\n",
       "      <td>5.589978e+14</td>\n",
       "      <td>5642503</td>\n",
       "      <td>M</td>\n",
       "      <td>2016-04-29T16:08:27Z</td>\n",
       "      <td>2016-04-29T00:00:00Z</td>\n",
       "      <td>56</td>\n",
       "      <td>JARDIM DA PENHA</td>\n",
       "      <td>0</td>\n",
       "      <td>0</td>\n",
       "      <td>0</td>\n",
       "      <td>0</td>\n",
       "      <td>0</td>\n",
       "      <td>0</td>\n",
       "      <td>No</td>\n",
       "    </tr>\n",
       "    <tr>\n",
       "      <th>2</th>\n",
       "      <td>4.262962e+12</td>\n",
       "      <td>5642549</td>\n",
       "      <td>F</td>\n",
       "      <td>2016-04-29T16:19:04Z</td>\n",
       "      <td>2016-04-29T00:00:00Z</td>\n",
       "      <td>62</td>\n",
       "      <td>MATA DA PRAIA</td>\n",
       "      <td>0</td>\n",
       "      <td>0</td>\n",
       "      <td>0</td>\n",
       "      <td>0</td>\n",
       "      <td>0</td>\n",
       "      <td>0</td>\n",
       "      <td>No</td>\n",
       "    </tr>\n",
       "    <tr>\n",
       "      <th>3</th>\n",
       "      <td>8.679512e+11</td>\n",
       "      <td>5642828</td>\n",
       "      <td>F</td>\n",
       "      <td>2016-04-29T17:29:31Z</td>\n",
       "      <td>2016-04-29T00:00:00Z</td>\n",
       "      <td>8</td>\n",
       "      <td>PONTAL DE CAMBURI</td>\n",
       "      <td>0</td>\n",
       "      <td>0</td>\n",
       "      <td>0</td>\n",
       "      <td>0</td>\n",
       "      <td>0</td>\n",
       "      <td>0</td>\n",
       "      <td>No</td>\n",
       "    </tr>\n",
       "    <tr>\n",
       "      <th>4</th>\n",
       "      <td>8.841186e+12</td>\n",
       "      <td>5642494</td>\n",
       "      <td>F</td>\n",
       "      <td>2016-04-29T16:07:23Z</td>\n",
       "      <td>2016-04-29T00:00:00Z</td>\n",
       "      <td>56</td>\n",
       "      <td>JARDIM DA PENHA</td>\n",
       "      <td>0</td>\n",
       "      <td>1</td>\n",
       "      <td>1</td>\n",
       "      <td>0</td>\n",
       "      <td>0</td>\n",
       "      <td>0</td>\n",
       "      <td>No</td>\n",
       "    </tr>\n",
       "  </tbody>\n",
       "</table>\n",
       "</div>"
      ],
      "text/plain": [
       "      PatientId  AppointmentID Gender          ScheduledDay  \\\n",
       "0  2.987250e+13        5642903      F  2016-04-29T18:38:08Z   \n",
       "1  5.589978e+14        5642503      M  2016-04-29T16:08:27Z   \n",
       "2  4.262962e+12        5642549      F  2016-04-29T16:19:04Z   \n",
       "3  8.679512e+11        5642828      F  2016-04-29T17:29:31Z   \n",
       "4  8.841186e+12        5642494      F  2016-04-29T16:07:23Z   \n",
       "\n",
       "         AppointmentDay  Age      Neighbourhood  Scholarship  Hipertension  \\\n",
       "0  2016-04-29T00:00:00Z   62    JARDIM DA PENHA            0             1   \n",
       "1  2016-04-29T00:00:00Z   56    JARDIM DA PENHA            0             0   \n",
       "2  2016-04-29T00:00:00Z   62      MATA DA PRAIA            0             0   \n",
       "3  2016-04-29T00:00:00Z    8  PONTAL DE CAMBURI            0             0   \n",
       "4  2016-04-29T00:00:00Z   56    JARDIM DA PENHA            0             1   \n",
       "\n",
       "   Diabetes  Alcoholism  Handcap  SMS_received No-show  \n",
       "0         0           0        0             0      No  \n",
       "1         0           0        0             0      No  \n",
       "2         0           0        0             0      No  \n",
       "3         0           0        0             0      No  \n",
       "4         1           0        0             0      No  "
      ]
     },
     "execution_count": 3,
     "metadata": {},
     "output_type": "execute_result"
    }
   ],
   "source": [
    "# print/look at the first five lines of the dataset \n",
    "df.head()"
   ]
  },
  {
   "cell_type": "code",
   "execution_count": 4,
   "id": "327ebb2a",
   "metadata": {
    "slideshow": {
     "slide_type": "slide"
    }
   },
   "outputs": [
    {
     "data": {
      "text/plain": [
       "(110527, 14)"
      ]
     },
     "execution_count": 4,
     "metadata": {},
     "output_type": "execute_result"
    }
   ],
   "source": [
    "# check the shape or dimensions of the dataset(rows and columns)\n",
    "df.shape"
   ]
  },
  {
   "cell_type": "code",
   "execution_count": 5,
   "id": "aeabc1e7",
   "metadata": {
    "scrolled": false,
    "slideshow": {
     "slide_type": "slide"
    }
   },
   "outputs": [
    {
     "data": {
      "text/plain": [
       "Index(['PatientId', 'AppointmentID', 'Gender', 'ScheduledDay',\n",
       "       'AppointmentDay', 'Age', 'Neighbourhood', 'Scholarship', 'Hipertension',\n",
       "       'Diabetes', 'Alcoholism', 'Handcap', 'SMS_received', 'No-show'],\n",
       "      dtype='object')"
      ]
     },
     "execution_count": 5,
     "metadata": {},
     "output_type": "execute_result"
    }
   ],
   "source": [
    "# inspect the columns\n",
    "df.columns"
   ]
  },
  {
   "cell_type": "code",
   "execution_count": 6,
   "id": "99da78db",
   "metadata": {
    "scrolled": true,
    "slideshow": {
     "slide_type": "slide"
    }
   },
   "outputs": [
    {
     "name": "stdout",
     "output_type": "stream",
     "text": [
      "0 PatientId\n",
      "1 AppointmentID\n",
      "2 Gender\n",
      "3 ScheduledDay\n",
      "4 AppointmentDay\n",
      "5 Age\n",
      "6 Neighbourhood\n",
      "7 Scholarship\n",
      "8 Hipertension\n",
      "9 Diabetes\n",
      "10 Alcoholism\n",
      "11 Handcap\n",
      "12 SMS_received\n",
      "13 No-show\n"
     ]
    }
   ],
   "source": [
    "# funtion to print the columns of the dataset \n",
    "def printColumns():\n",
    "  for i,v in enumerate(df):\n",
    "    print(i,v)\n",
    "printColumns()"
   ]
  },
  {
   "cell_type": "markdown",
   "id": "945835cc",
   "metadata": {},
   "source": [
    "from the above, we can tell that some of the columns have typos, let's rename them and also rename the last column 'No-show' to 'No_show' to get a consistent naming format"
   ]
  },
  {
   "cell_type": "code",
   "execution_count": 7,
   "id": "b565fcc7",
   "metadata": {},
   "outputs": [],
   "source": [
    "#let's rename them and also rename the last column 'No-show' to 'No_show' to get a consistent naming format\n",
    "df.rename(columns ={'Hipertension' : 'Hypertension', 'Handcap' : 'Handicap',  'No-show' :'No_show'}, inplace = True)"
   ]
  },
  {
   "cell_type": "code",
   "execution_count": 8,
   "id": "6a4be618",
   "metadata": {},
   "outputs": [
    {
     "data": {
      "text/html": [
       "<div>\n",
       "<style scoped>\n",
       "    .dataframe tbody tr th:only-of-type {\n",
       "        vertical-align: middle;\n",
       "    }\n",
       "\n",
       "    .dataframe tbody tr th {\n",
       "        vertical-align: top;\n",
       "    }\n",
       "\n",
       "    .dataframe thead th {\n",
       "        text-align: right;\n",
       "    }\n",
       "</style>\n",
       "<table border=\"1\" class=\"dataframe\">\n",
       "  <thead>\n",
       "    <tr style=\"text-align: right;\">\n",
       "      <th></th>\n",
       "      <th>PatientId</th>\n",
       "      <th>AppointmentID</th>\n",
       "      <th>Gender</th>\n",
       "      <th>ScheduledDay</th>\n",
       "      <th>AppointmentDay</th>\n",
       "      <th>Age</th>\n",
       "      <th>Neighbourhood</th>\n",
       "      <th>Scholarship</th>\n",
       "      <th>Hypertension</th>\n",
       "      <th>Diabetes</th>\n",
       "      <th>Alcoholism</th>\n",
       "      <th>Handicap</th>\n",
       "      <th>SMS_received</th>\n",
       "      <th>No_show</th>\n",
       "    </tr>\n",
       "  </thead>\n",
       "  <tbody>\n",
       "    <tr>\n",
       "      <th>0</th>\n",
       "      <td>2.987250e+13</td>\n",
       "      <td>5642903</td>\n",
       "      <td>F</td>\n",
       "      <td>2016-04-29T18:38:08Z</td>\n",
       "      <td>2016-04-29T00:00:00Z</td>\n",
       "      <td>62</td>\n",
       "      <td>JARDIM DA PENHA</td>\n",
       "      <td>0</td>\n",
       "      <td>1</td>\n",
       "      <td>0</td>\n",
       "      <td>0</td>\n",
       "      <td>0</td>\n",
       "      <td>0</td>\n",
       "      <td>No</td>\n",
       "    </tr>\n",
       "    <tr>\n",
       "      <th>1</th>\n",
       "      <td>5.589978e+14</td>\n",
       "      <td>5642503</td>\n",
       "      <td>M</td>\n",
       "      <td>2016-04-29T16:08:27Z</td>\n",
       "      <td>2016-04-29T00:00:00Z</td>\n",
       "      <td>56</td>\n",
       "      <td>JARDIM DA PENHA</td>\n",
       "      <td>0</td>\n",
       "      <td>0</td>\n",
       "      <td>0</td>\n",
       "      <td>0</td>\n",
       "      <td>0</td>\n",
       "      <td>0</td>\n",
       "      <td>No</td>\n",
       "    </tr>\n",
       "    <tr>\n",
       "      <th>2</th>\n",
       "      <td>4.262962e+12</td>\n",
       "      <td>5642549</td>\n",
       "      <td>F</td>\n",
       "      <td>2016-04-29T16:19:04Z</td>\n",
       "      <td>2016-04-29T00:00:00Z</td>\n",
       "      <td>62</td>\n",
       "      <td>MATA DA PRAIA</td>\n",
       "      <td>0</td>\n",
       "      <td>0</td>\n",
       "      <td>0</td>\n",
       "      <td>0</td>\n",
       "      <td>0</td>\n",
       "      <td>0</td>\n",
       "      <td>No</td>\n",
       "    </tr>\n",
       "    <tr>\n",
       "      <th>3</th>\n",
       "      <td>8.679512e+11</td>\n",
       "      <td>5642828</td>\n",
       "      <td>F</td>\n",
       "      <td>2016-04-29T17:29:31Z</td>\n",
       "      <td>2016-04-29T00:00:00Z</td>\n",
       "      <td>8</td>\n",
       "      <td>PONTAL DE CAMBURI</td>\n",
       "      <td>0</td>\n",
       "      <td>0</td>\n",
       "      <td>0</td>\n",
       "      <td>0</td>\n",
       "      <td>0</td>\n",
       "      <td>0</td>\n",
       "      <td>No</td>\n",
       "    </tr>\n",
       "    <tr>\n",
       "      <th>4</th>\n",
       "      <td>8.841186e+12</td>\n",
       "      <td>5642494</td>\n",
       "      <td>F</td>\n",
       "      <td>2016-04-29T16:07:23Z</td>\n",
       "      <td>2016-04-29T00:00:00Z</td>\n",
       "      <td>56</td>\n",
       "      <td>JARDIM DA PENHA</td>\n",
       "      <td>0</td>\n",
       "      <td>1</td>\n",
       "      <td>1</td>\n",
       "      <td>0</td>\n",
       "      <td>0</td>\n",
       "      <td>0</td>\n",
       "      <td>No</td>\n",
       "    </tr>\n",
       "  </tbody>\n",
       "</table>\n",
       "</div>"
      ],
      "text/plain": [
       "      PatientId  AppointmentID Gender          ScheduledDay  \\\n",
       "0  2.987250e+13        5642903      F  2016-04-29T18:38:08Z   \n",
       "1  5.589978e+14        5642503      M  2016-04-29T16:08:27Z   \n",
       "2  4.262962e+12        5642549      F  2016-04-29T16:19:04Z   \n",
       "3  8.679512e+11        5642828      F  2016-04-29T17:29:31Z   \n",
       "4  8.841186e+12        5642494      F  2016-04-29T16:07:23Z   \n",
       "\n",
       "         AppointmentDay  Age      Neighbourhood  Scholarship  Hypertension  \\\n",
       "0  2016-04-29T00:00:00Z   62    JARDIM DA PENHA            0             1   \n",
       "1  2016-04-29T00:00:00Z   56    JARDIM DA PENHA            0             0   \n",
       "2  2016-04-29T00:00:00Z   62      MATA DA PRAIA            0             0   \n",
       "3  2016-04-29T00:00:00Z    8  PONTAL DE CAMBURI            0             0   \n",
       "4  2016-04-29T00:00:00Z   56    JARDIM DA PENHA            0             1   \n",
       "\n",
       "   Diabetes  Alcoholism  Handicap  SMS_received No_show  \n",
       "0         0           0         0             0      No  \n",
       "1         0           0         0             0      No  \n",
       "2         0           0         0             0      No  \n",
       "3         0           0         0             0      No  \n",
       "4         1           0         0             0      No  "
      ]
     },
     "execution_count": 8,
     "metadata": {},
     "output_type": "execute_result"
    }
   ],
   "source": [
    "# confirm the changes by printing a few lines of the dataset\n",
    "df.head()"
   ]
  },
  {
   "cell_type": "markdown",
   "id": "cca43fb0",
   "metadata": {},
   "source": [
    "## Inspect the datasets(detailed)\n",
    "check for :\n",
    "* datatypes \n",
    "* missing data values or null values \n",
    "* duplicates \n",
    "* and among others where necessary "
   ]
  },
  {
   "cell_type": "code",
   "execution_count": 9,
   "id": "ba09a580",
   "metadata": {
    "scrolled": true
   },
   "outputs": [
    {
     "name": "stdout",
     "output_type": "stream",
     "text": [
      "<class 'pandas.core.frame.DataFrame'>\n",
      "RangeIndex: 110527 entries, 0 to 110526\n",
      "Data columns (total 14 columns):\n",
      " #   Column          Non-Null Count   Dtype  \n",
      "---  ------          --------------   -----  \n",
      " 0   PatientId       110527 non-null  float64\n",
      " 1   AppointmentID   110527 non-null  int64  \n",
      " 2   Gender          110527 non-null  object \n",
      " 3   ScheduledDay    110527 non-null  object \n",
      " 4   AppointmentDay  110527 non-null  object \n",
      " 5   Age             110527 non-null  int64  \n",
      " 6   Neighbourhood   110527 non-null  object \n",
      " 7   Scholarship     110527 non-null  int64  \n",
      " 8   Hypertension    110527 non-null  int64  \n",
      " 9   Diabetes        110527 non-null  int64  \n",
      " 10  Alcoholism      110527 non-null  int64  \n",
      " 11  Handicap        110527 non-null  int64  \n",
      " 12  SMS_received    110527 non-null  int64  \n",
      " 13  No_show         110527 non-null  object \n",
      "dtypes: float64(1), int64(8), object(5)\n",
      "memory usage: 11.8+ MB\n"
     ]
    }
   ],
   "source": [
    "# use the info() to inspect the dataset\n",
    "# use pandas's info function to get a concise summary of our dataset.\n",
    "df.info()"
   ]
  },
  {
   "cell_type": "markdown",
   "id": "80e8ea3f",
   "metadata": {},
   "source": [
    "change the 'ScheduledDay' and 'AppointmentDay'  datatypes  to datetime"
   ]
  },
  {
   "cell_type": "code",
   "execution_count": 10,
   "id": "26fba24a",
   "metadata": {},
   "outputs": [],
   "source": [
    "#change the 'ScheduledDay' and 'AppointmentDay' datatypes to datetime\n",
    "df['ScheduledDay'] = pd.to_datetime(df['ScheduledDay'])\n",
    "df['AppointmentDay'] = pd.to_datetime(df['AppointmentDay'])"
   ]
  },
  {
   "cell_type": "code",
   "execution_count": 11,
   "id": "747cf4b7",
   "metadata": {},
   "outputs": [
    {
     "name": "stdout",
     "output_type": "stream",
     "text": [
      "<class 'pandas.core.frame.DataFrame'>\n",
      "RangeIndex: 110527 entries, 0 to 110526\n",
      "Data columns (total 14 columns):\n",
      " #   Column          Non-Null Count   Dtype              \n",
      "---  ------          --------------   -----              \n",
      " 0   PatientId       110527 non-null  float64            \n",
      " 1   AppointmentID   110527 non-null  int64              \n",
      " 2   Gender          110527 non-null  object             \n",
      " 3   ScheduledDay    110527 non-null  datetime64[ns, UTC]\n",
      " 4   AppointmentDay  110527 non-null  datetime64[ns, UTC]\n",
      " 5   Age             110527 non-null  int64              \n",
      " 6   Neighbourhood   110527 non-null  object             \n",
      " 7   Scholarship     110527 non-null  int64              \n",
      " 8   Hypertension    110527 non-null  int64              \n",
      " 9   Diabetes        110527 non-null  int64              \n",
      " 10  Alcoholism      110527 non-null  int64              \n",
      " 11  Handicap        110527 non-null  int64              \n",
      " 12  SMS_received    110527 non-null  int64              \n",
      " 13  No_show         110527 non-null  object             \n",
      "dtypes: datetime64[ns, UTC](2), float64(1), int64(8), object(3)\n",
      "memory usage: 11.8+ MB\n"
     ]
    }
   ],
   "source": [
    "# let's confirm the changes using the info() function \n",
    "df.info()"
   ]
  },
  {
   "cell_type": "code",
   "execution_count": 12,
   "id": "a8908a2c",
   "metadata": {},
   "outputs": [
    {
     "data": {
      "text/html": [
       "<div>\n",
       "<style scoped>\n",
       "    .dataframe tbody tr th:only-of-type {\n",
       "        vertical-align: middle;\n",
       "    }\n",
       "\n",
       "    .dataframe tbody tr th {\n",
       "        vertical-align: top;\n",
       "    }\n",
       "\n",
       "    .dataframe thead th {\n",
       "        text-align: right;\n",
       "    }\n",
       "</style>\n",
       "<table border=\"1\" class=\"dataframe\">\n",
       "  <thead>\n",
       "    <tr style=\"text-align: right;\">\n",
       "      <th></th>\n",
       "      <th>PatientId</th>\n",
       "      <th>AppointmentID</th>\n",
       "      <th>Gender</th>\n",
       "      <th>ScheduledDay</th>\n",
       "      <th>AppointmentDay</th>\n",
       "      <th>Age</th>\n",
       "      <th>Neighbourhood</th>\n",
       "      <th>Scholarship</th>\n",
       "      <th>Hypertension</th>\n",
       "      <th>Diabetes</th>\n",
       "      <th>Alcoholism</th>\n",
       "      <th>Handicap</th>\n",
       "      <th>SMS_received</th>\n",
       "      <th>No_show</th>\n",
       "    </tr>\n",
       "  </thead>\n",
       "  <tbody>\n",
       "    <tr>\n",
       "      <th>0</th>\n",
       "      <td>2.987250e+13</td>\n",
       "      <td>5642903</td>\n",
       "      <td>F</td>\n",
       "      <td>2016-04-29 18:38:08+00:00</td>\n",
       "      <td>2016-04-29 00:00:00+00:00</td>\n",
       "      <td>62</td>\n",
       "      <td>JARDIM DA PENHA</td>\n",
       "      <td>0</td>\n",
       "      <td>1</td>\n",
       "      <td>0</td>\n",
       "      <td>0</td>\n",
       "      <td>0</td>\n",
       "      <td>0</td>\n",
       "      <td>No</td>\n",
       "    </tr>\n",
       "    <tr>\n",
       "      <th>1</th>\n",
       "      <td>5.589978e+14</td>\n",
       "      <td>5642503</td>\n",
       "      <td>M</td>\n",
       "      <td>2016-04-29 16:08:27+00:00</td>\n",
       "      <td>2016-04-29 00:00:00+00:00</td>\n",
       "      <td>56</td>\n",
       "      <td>JARDIM DA PENHA</td>\n",
       "      <td>0</td>\n",
       "      <td>0</td>\n",
       "      <td>0</td>\n",
       "      <td>0</td>\n",
       "      <td>0</td>\n",
       "      <td>0</td>\n",
       "      <td>No</td>\n",
       "    </tr>\n",
       "    <tr>\n",
       "      <th>2</th>\n",
       "      <td>4.262962e+12</td>\n",
       "      <td>5642549</td>\n",
       "      <td>F</td>\n",
       "      <td>2016-04-29 16:19:04+00:00</td>\n",
       "      <td>2016-04-29 00:00:00+00:00</td>\n",
       "      <td>62</td>\n",
       "      <td>MATA DA PRAIA</td>\n",
       "      <td>0</td>\n",
       "      <td>0</td>\n",
       "      <td>0</td>\n",
       "      <td>0</td>\n",
       "      <td>0</td>\n",
       "      <td>0</td>\n",
       "      <td>No</td>\n",
       "    </tr>\n",
       "    <tr>\n",
       "      <th>3</th>\n",
       "      <td>8.679512e+11</td>\n",
       "      <td>5642828</td>\n",
       "      <td>F</td>\n",
       "      <td>2016-04-29 17:29:31+00:00</td>\n",
       "      <td>2016-04-29 00:00:00+00:00</td>\n",
       "      <td>8</td>\n",
       "      <td>PONTAL DE CAMBURI</td>\n",
       "      <td>0</td>\n",
       "      <td>0</td>\n",
       "      <td>0</td>\n",
       "      <td>0</td>\n",
       "      <td>0</td>\n",
       "      <td>0</td>\n",
       "      <td>No</td>\n",
       "    </tr>\n",
       "    <tr>\n",
       "      <th>4</th>\n",
       "      <td>8.841186e+12</td>\n",
       "      <td>5642494</td>\n",
       "      <td>F</td>\n",
       "      <td>2016-04-29 16:07:23+00:00</td>\n",
       "      <td>2016-04-29 00:00:00+00:00</td>\n",
       "      <td>56</td>\n",
       "      <td>JARDIM DA PENHA</td>\n",
       "      <td>0</td>\n",
       "      <td>1</td>\n",
       "      <td>1</td>\n",
       "      <td>0</td>\n",
       "      <td>0</td>\n",
       "      <td>0</td>\n",
       "      <td>No</td>\n",
       "    </tr>\n",
       "  </tbody>\n",
       "</table>\n",
       "</div>"
      ],
      "text/plain": [
       "      PatientId  AppointmentID Gender              ScheduledDay  \\\n",
       "0  2.987250e+13        5642903      F 2016-04-29 18:38:08+00:00   \n",
       "1  5.589978e+14        5642503      M 2016-04-29 16:08:27+00:00   \n",
       "2  4.262962e+12        5642549      F 2016-04-29 16:19:04+00:00   \n",
       "3  8.679512e+11        5642828      F 2016-04-29 17:29:31+00:00   \n",
       "4  8.841186e+12        5642494      F 2016-04-29 16:07:23+00:00   \n",
       "\n",
       "             AppointmentDay  Age      Neighbourhood  Scholarship  \\\n",
       "0 2016-04-29 00:00:00+00:00   62    JARDIM DA PENHA            0   \n",
       "1 2016-04-29 00:00:00+00:00   56    JARDIM DA PENHA            0   \n",
       "2 2016-04-29 00:00:00+00:00   62      MATA DA PRAIA            0   \n",
       "3 2016-04-29 00:00:00+00:00    8  PONTAL DE CAMBURI            0   \n",
       "4 2016-04-29 00:00:00+00:00   56    JARDIM DA PENHA            0   \n",
       "\n",
       "   Hypertension  Diabetes  Alcoholism  Handicap  SMS_received No_show  \n",
       "0             1         0           0         0             0      No  \n",
       "1             0         0           0         0             0      No  \n",
       "2             0         0           0         0             0      No  \n",
       "3             0         0           0         0             0      No  \n",
       "4             1         1           0         0             0      No  "
      ]
     },
     "execution_count": 12,
     "metadata": {},
     "output_type": "execute_result"
    }
   ],
   "source": [
    "# display first five rows\n",
    "df.head()"
   ]
  },
  {
   "cell_type": "code",
   "execution_count": 13,
   "id": "3294bab4",
   "metadata": {
    "scrolled": false
   },
   "outputs": [
    {
     "data": {
      "text/plain": [
       "PatientId          62299\n",
       "AppointmentID     110527\n",
       "Gender                 2\n",
       "ScheduledDay      103549\n",
       "AppointmentDay        27\n",
       "Age                  104\n",
       "Neighbourhood         81\n",
       "Scholarship            2\n",
       "Hypertension           2\n",
       "Diabetes               2\n",
       "Alcoholism             2\n",
       "Handicap               5\n",
       "SMS_received           2\n",
       "No_show                2\n",
       "dtype: int64"
      ]
     },
     "execution_count": 13,
     "metadata": {},
     "output_type": "execute_result"
    }
   ],
   "source": [
    "# check the number of unique entries\n",
    "df.nunique() "
   ]
  },
  {
   "cell_type": "code",
   "execution_count": 14,
   "id": "55dbe4a6",
   "metadata": {
    "scrolled": true
   },
   "outputs": [
    {
     "data": {
      "text/plain": [
       "PatientId         0\n",
       "AppointmentID     0\n",
       "Gender            0\n",
       "ScheduledDay      0\n",
       "AppointmentDay    0\n",
       "Age               0\n",
       "Neighbourhood     0\n",
       "Scholarship       0\n",
       "Hypertension      0\n",
       "Diabetes          0\n",
       "Alcoholism        0\n",
       "Handicap          0\n",
       "SMS_received      0\n",
       "No_show           0\n",
       "dtype: int64"
      ]
     },
     "execution_count": 14,
     "metadata": {},
     "output_type": "execute_result"
    }
   ],
   "source": [
    "# check for missing data entries \n",
    "df.isnull().sum()"
   ]
  },
  {
   "cell_type": "markdown",
   "id": "2f9b515a",
   "metadata": {},
   "source": [
    "From the above operation, it's clear that there are no missing data entries in the dataset "
   ]
  },
  {
   "cell_type": "code",
   "execution_count": 15,
   "id": "f501f591",
   "metadata": {
    "scrolled": true
   },
   "outputs": [
    {
     "data": {
      "text/plain": [
       "0"
      ]
     },
     "execution_count": 15,
     "metadata": {},
     "output_type": "execute_result"
    }
   ],
   "source": [
    "# check for possible duplicates in the dataset\n",
    "df.duplicated().sum() "
   ]
  },
  {
   "cell_type": "markdown",
   "id": "65db973b",
   "metadata": {},
   "source": [
    "From the above operation, it's clear that there are no duplicates in the dataset "
   ]
  },
  {
   "cell_type": "markdown",
   "id": "712f3b2c",
   "metadata": {},
   "source": [
    "### inspect the columns using  unique() function"
   ]
  },
  {
   "cell_type": "code",
   "execution_count": 16,
   "id": "b546f4ed",
   "metadata": {},
   "outputs": [
    {
     "data": {
      "text/plain": [
       "array([5642903, 5642503, 5642549, ..., 5630692, 5630323, 5629448],\n",
       "      dtype=int64)"
      ]
     },
     "execution_count": 16,
     "metadata": {},
     "output_type": "execute_result"
    }
   ],
   "source": [
    "# check unique entries of the AppointmentID column\n",
    "df.AppointmentID.unique()"
   ]
  },
  {
   "cell_type": "code",
   "execution_count": 17,
   "id": "3eea1036",
   "metadata": {},
   "outputs": [
    {
     "data": {
      "text/plain": [
       "array(['F', 'M'], dtype=object)"
      ]
     },
     "execution_count": 17,
     "metadata": {},
     "output_type": "execute_result"
    }
   ],
   "source": [
    "# check the unique entries of the Gender column\n",
    "df.Gender.unique()"
   ]
  },
  {
   "cell_type": "code",
   "execution_count": 18,
   "id": "8c9f31d5",
   "metadata": {},
   "outputs": [
    {
     "data": {
      "text/plain": [
       "<DatetimeArray>\n",
       "['2016-04-29 18:38:08+00:00', '2016-04-29 16:08:27+00:00',\n",
       " '2016-04-29 16:19:04+00:00', '2016-04-29 17:29:31+00:00',\n",
       " '2016-04-29 16:07:23+00:00', '2016-04-27 08:36:51+00:00',\n",
       " '2016-04-27 15:05:12+00:00', '2016-04-27 15:39:58+00:00',\n",
       " '2016-04-29 08:02:16+00:00', '2016-04-27 12:48:25+00:00',\n",
       " ...\n",
       " '2016-06-07 07:45:16+00:00', '2016-06-07 07:38:34+00:00',\n",
       " '2016-04-27 15:15:06+00:00', '2016-05-03 07:51:47+00:00',\n",
       " '2016-05-03 08:23:40+00:00', '2016-05-03 09:15:35+00:00',\n",
       " '2016-05-03 07:27:33+00:00', '2016-04-27 16:03:52+00:00',\n",
       " '2016-04-27 15:09:23+00:00', '2016-04-27 13:30:56+00:00']\n",
       "Length: 103549, dtype: datetime64[ns, UTC]"
      ]
     },
     "execution_count": 18,
     "metadata": {},
     "output_type": "execute_result"
    }
   ],
   "source": [
    "# check the unique entries of the ScheduledDay column\n",
    "df.ScheduledDay.unique()"
   ]
  },
  {
   "cell_type": "code",
   "execution_count": 19,
   "id": "46977491",
   "metadata": {},
   "outputs": [
    {
     "data": {
      "text/plain": [
       "array([ 62,  56,   8,  76,  23,  39,  21,  19,  30,  29,  22,  28,  54,\n",
       "        15,  50,  40,  46,   4,  13,  65,  45,  51,  32,  12,  61,  38,\n",
       "        79,  18,  63,  64,  85,  59,  55,  71,  49,  78,  31,  58,  27,\n",
       "         6,   2,  11,   7,   0,   3,   1,  69,  68,  60,  67,  36,  10,\n",
       "        35,  20,  26,  34,  33,  16,  42,   5,  47,  17,  41,  44,  37,\n",
       "        24,  66,  77,  81,  70,  53,  75,  73,  52,  74,  43,  89,  57,\n",
       "        14,   9,  48,  83,  72,  25,  80,  87,  88,  84,  82,  90,  94,\n",
       "        86,  91,  98,  92,  96,  93,  95,  97, 102, 115, 100,  99,  -1],\n",
       "      dtype=int64)"
      ]
     },
     "execution_count": 19,
     "metadata": {},
     "output_type": "execute_result"
    }
   ],
   "source": [
    "# check the unique entries of the Age column\n",
    " \n",
    "df.Age.unique()"
   ]
  },
  {
   "cell_type": "code",
   "execution_count": 20,
   "id": "ab3dd8c4",
   "metadata": {},
   "outputs": [
    {
     "data": {
      "text/html": [
       "<div>\n",
       "<style scoped>\n",
       "    .dataframe tbody tr th:only-of-type {\n",
       "        vertical-align: middle;\n",
       "    }\n",
       "\n",
       "    .dataframe tbody tr th {\n",
       "        vertical-align: top;\n",
       "    }\n",
       "\n",
       "    .dataframe thead th {\n",
       "        text-align: right;\n",
       "    }\n",
       "</style>\n",
       "<table border=\"1\" class=\"dataframe\">\n",
       "  <thead>\n",
       "    <tr style=\"text-align: right;\">\n",
       "      <th></th>\n",
       "      <th>PatientId</th>\n",
       "      <th>AppointmentID</th>\n",
       "      <th>Gender</th>\n",
       "      <th>ScheduledDay</th>\n",
       "      <th>AppointmentDay</th>\n",
       "      <th>Age</th>\n",
       "      <th>Neighbourhood</th>\n",
       "      <th>Scholarship</th>\n",
       "      <th>Hypertension</th>\n",
       "      <th>Diabetes</th>\n",
       "      <th>Alcoholism</th>\n",
       "      <th>Handicap</th>\n",
       "      <th>SMS_received</th>\n",
       "      <th>No_show</th>\n",
       "    </tr>\n",
       "  </thead>\n",
       "  <tbody>\n",
       "    <tr>\n",
       "      <th>99832</th>\n",
       "      <td>4.659432e+14</td>\n",
       "      <td>5775010</td>\n",
       "      <td>F</td>\n",
       "      <td>2016-06-06 08:58:13+00:00</td>\n",
       "      <td>2016-06-06 00:00:00+00:00</td>\n",
       "      <td>-1</td>\n",
       "      <td>ROMÃO</td>\n",
       "      <td>0</td>\n",
       "      <td>0</td>\n",
       "      <td>0</td>\n",
       "      <td>0</td>\n",
       "      <td>0</td>\n",
       "      <td>0</td>\n",
       "      <td>No</td>\n",
       "    </tr>\n",
       "  </tbody>\n",
       "</table>\n",
       "</div>"
      ],
      "text/plain": [
       "          PatientId  AppointmentID Gender              ScheduledDay  \\\n",
       "99832  4.659432e+14        5775010      F 2016-06-06 08:58:13+00:00   \n",
       "\n",
       "                 AppointmentDay  Age Neighbourhood  Scholarship  Hypertension  \\\n",
       "99832 2016-06-06 00:00:00+00:00   -1         ROMÃO            0             0   \n",
       "\n",
       "       Diabetes  Alcoholism  Handicap  SMS_received No_show  \n",
       "99832         0           0         0             0      No  "
      ]
     },
     "execution_count": 20,
     "metadata": {},
     "output_type": "execute_result"
    }
   ],
   "source": [
    "# from the above operation we observed that there's a -1 value in the Age column\n",
    "# let's check to confirm for sure if there are any more negative values\n",
    "df[df.Age < 0]"
   ]
  },
  {
   "cell_type": "code",
   "execution_count": 21,
   "id": "f312258c",
   "metadata": {
    "scrolled": true
   },
   "outputs": [
    {
     "data": {
      "text/html": [
       "<div>\n",
       "<style scoped>\n",
       "    .dataframe tbody tr th:only-of-type {\n",
       "        vertical-align: middle;\n",
       "    }\n",
       "\n",
       "    .dataframe tbody tr th {\n",
       "        vertical-align: top;\n",
       "    }\n",
       "\n",
       "    .dataframe thead th {\n",
       "        text-align: right;\n",
       "    }\n",
       "</style>\n",
       "<table border=\"1\" class=\"dataframe\">\n",
       "  <thead>\n",
       "    <tr style=\"text-align: right;\">\n",
       "      <th></th>\n",
       "      <th>PatientId</th>\n",
       "      <th>AppointmentID</th>\n",
       "      <th>Gender</th>\n",
       "      <th>ScheduledDay</th>\n",
       "      <th>AppointmentDay</th>\n",
       "      <th>Age</th>\n",
       "      <th>Neighbourhood</th>\n",
       "      <th>Scholarship</th>\n",
       "      <th>Hypertension</th>\n",
       "      <th>Diabetes</th>\n",
       "      <th>Alcoholism</th>\n",
       "      <th>Handicap</th>\n",
       "      <th>SMS_received</th>\n",
       "      <th>No_show</th>\n",
       "    </tr>\n",
       "  </thead>\n",
       "  <tbody>\n",
       "    <tr>\n",
       "      <th>99832</th>\n",
       "      <td>4.659432e+14</td>\n",
       "      <td>5775010</td>\n",
       "      <td>F</td>\n",
       "      <td>2016-06-06 08:58:13+00:00</td>\n",
       "      <td>2016-06-06 00:00:00+00:00</td>\n",
       "      <td>-1</td>\n",
       "      <td>ROMÃO</td>\n",
       "      <td>0</td>\n",
       "      <td>0</td>\n",
       "      <td>0</td>\n",
       "      <td>0</td>\n",
       "      <td>0</td>\n",
       "      <td>0</td>\n",
       "      <td>No</td>\n",
       "    </tr>\n",
       "  </tbody>\n",
       "</table>\n",
       "</div>"
      ],
      "text/plain": [
       "          PatientId  AppointmentID Gender              ScheduledDay  \\\n",
       "99832  4.659432e+14        5775010      F 2016-06-06 08:58:13+00:00   \n",
       "\n",
       "                 AppointmentDay  Age Neighbourhood  Scholarship  Hypertension  \\\n",
       "99832 2016-06-06 00:00:00+00:00   -1         ROMÃO            0             0   \n",
       "\n",
       "       Diabetes  Alcoholism  Handicap  SMS_received No_show  \n",
       "99832         0           0         0             0      No  "
      ]
     },
     "execution_count": 21,
     "metadata": {},
     "output_type": "execute_result"
    }
   ],
   "source": [
    "# same operation performed above but using the query() funtion\n",
    "df.query('Age < 0')"
   ]
  },
  {
   "cell_type": "markdown",
   "id": "80a0500d",
   "metadata": {},
   "source": [
    "we found out that the only negative value was -1 which is an unrealistic value for age so we will treat it as an outlier and thus remove it from the original dataset"
   ]
  },
  {
   "cell_type": "code",
   "execution_count": 22,
   "id": "a471f605",
   "metadata": {},
   "outputs": [],
   "source": [
    "# remove the outlier from the age column and re-assign the change to the original dataset\n",
    "# the new dataset will not contain the outlier removed\n",
    "df = df[df.Age >  0]"
   ]
  },
  {
   "cell_type": "markdown",
   "id": "91eddf63",
   "metadata": {},
   "source": [
    "let's confirm if it has been removed"
   ]
  },
  {
   "cell_type": "code",
   "execution_count": 23,
   "id": "ddc77735",
   "metadata": {
    "scrolled": false
   },
   "outputs": [
    {
     "data": {
      "text/html": [
       "<div>\n",
       "<style scoped>\n",
       "    .dataframe tbody tr th:only-of-type {\n",
       "        vertical-align: middle;\n",
       "    }\n",
       "\n",
       "    .dataframe tbody tr th {\n",
       "        vertical-align: top;\n",
       "    }\n",
       "\n",
       "    .dataframe thead th {\n",
       "        text-align: right;\n",
       "    }\n",
       "</style>\n",
       "<table border=\"1\" class=\"dataframe\">\n",
       "  <thead>\n",
       "    <tr style=\"text-align: right;\">\n",
       "      <th></th>\n",
       "      <th>PatientId</th>\n",
       "      <th>AppointmentID</th>\n",
       "      <th>Gender</th>\n",
       "      <th>ScheduledDay</th>\n",
       "      <th>AppointmentDay</th>\n",
       "      <th>Age</th>\n",
       "      <th>Neighbourhood</th>\n",
       "      <th>Scholarship</th>\n",
       "      <th>Hypertension</th>\n",
       "      <th>Diabetes</th>\n",
       "      <th>Alcoholism</th>\n",
       "      <th>Handicap</th>\n",
       "      <th>SMS_received</th>\n",
       "      <th>No_show</th>\n",
       "    </tr>\n",
       "  </thead>\n",
       "  <tbody>\n",
       "  </tbody>\n",
       "</table>\n",
       "</div>"
      ],
      "text/plain": [
       "Empty DataFrame\n",
       "Columns: [PatientId, AppointmentID, Gender, ScheduledDay, AppointmentDay, Age, Neighbourhood, Scholarship, Hypertension, Diabetes, Alcoholism, Handicap, SMS_received, No_show]\n",
       "Index: []"
      ]
     },
     "execution_count": 23,
     "metadata": {},
     "output_type": "execute_result"
    }
   ],
   "source": [
    "# confirm if it has been removed\n",
    "df[df.Age <  0 ]"
   ]
  },
  {
   "cell_type": "markdown",
   "id": "55bbc6b8",
   "metadata": {},
   "source": [
    "from the above we can confirm that it has been removed.\n",
    "now let's check the dimensions of the orignal dataset after the -1 has been removed and the unique values of the Age column to further confirm"
   ]
  },
  {
   "cell_type": "code",
   "execution_count": 24,
   "id": "977cc26f",
   "metadata": {
    "scrolled": true
   },
   "outputs": [
    {
     "data": {
      "text/plain": [
       "(106987, 14)"
      ]
     },
     "execution_count": 24,
     "metadata": {},
     "output_type": "execute_result"
    }
   ],
   "source": [
    "# print the shape/dimension of the dataset after remove the outlier (-1)\n",
    "df.shape"
   ]
  },
  {
   "cell_type": "code",
   "execution_count": 25,
   "id": "a804f226",
   "metadata": {},
   "outputs": [
    {
     "data": {
      "text/plain": [
       "array([ 62,  56,   8,  76,  23,  39,  21,  19,  30,  29,  22,  28,  54,\n",
       "        15,  50,  40,  46,   4,  13,  65,  45,  51,  32,  12,  61,  38,\n",
       "        79,  18,  63,  64,  85,  59,  55,  71,  49,  78,  31,  58,  27,\n",
       "         6,   2,  11,   7,   3,   1,  69,  68,  60,  67,  36,  10,  35,\n",
       "        20,  26,  34,  33,  16,  42,   5,  47,  17,  41,  44,  37,  24,\n",
       "        66,  77,  81,  70,  53,  75,  73,  52,  74,  43,  89,  57,  14,\n",
       "         9,  48,  83,  72,  25,  80,  87,  88,  84,  82,  90,  94,  86,\n",
       "        91,  98,  92,  96,  93,  95,  97, 102, 115, 100,  99], dtype=int64)"
      ]
     },
     "execution_count": 25,
     "metadata": {},
     "output_type": "execute_result"
    }
   ],
   "source": [
    "# re-check the number of unique entries of the Age column\n",
    "df.Age.unique()"
   ]
  },
  {
   "cell_type": "markdown",
   "id": "ad33cf32",
   "metadata": {},
   "source": [
    "we can confirm from the above that the -1 has been removed"
   ]
  },
  {
   "cell_type": "code",
   "execution_count": 26,
   "id": "9c495f83",
   "metadata": {},
   "outputs": [
    {
     "data": {
      "text/plain": [
       "array([0, 1, 2, 3, 4], dtype=int64)"
      ]
     },
     "execution_count": 26,
     "metadata": {},
     "output_type": "execute_result"
    }
   ],
   "source": [
    "# check the unique entries of the Handicap column\n",
    "df.Handicap.unique()"
   ]
  },
  {
   "cell_type": "code",
   "execution_count": 27,
   "id": "651af0d6",
   "metadata": {},
   "outputs": [
    {
     "data": {
      "text/plain": [
       "array(['JARDIM DA PENHA', 'MATA DA PRAIA', 'PONTAL DE CAMBURI',\n",
       "       'REPÚBLICA', 'GOIABEIRAS', 'ANDORINHAS', 'CONQUISTA',\n",
       "       'NOVA PALESTINA', 'DA PENHA', 'TABUAZEIRO', 'BENTO FERREIRA',\n",
       "       'SÃO PEDRO', 'SANTA MARTHA', 'SÃO CRISTÓVÃO', 'MARUÍPE',\n",
       "       'GRANDE VITÓRIA', 'SANTO ANDRÉ', 'SOLON BORGES', 'BONFIM',\n",
       "       'JARDIM CAMBURI', 'MARIA ORTIZ', 'JABOUR', 'ANTÔNIO HONÓRIO',\n",
       "       'RESISTÊNCIA', 'ILHA DE SANTA MARIA', 'JUCUTUQUARA',\n",
       "       'MÁRIO CYPRESTE', 'SANTO ANTÔNIO', 'BELA VISTA', 'PRAIA DO SUÁ',\n",
       "       'SANTA HELENA', 'ITARARÉ', 'INHANGUETÁ', 'UNIVERSITÁRIO',\n",
       "       'SÃO JOSÉ', 'REDENÇÃO', 'SANTA CLARA', 'CENTRO', 'PARQUE MOSCOSO',\n",
       "       'DO MOSCOSO', 'SANTOS DUMONT', 'CARATOÍRA', 'ARIOVALDO FAVALESSA',\n",
       "       'ILHA DO FRADE', 'GURIGICA', 'JOANA D´ARC', 'CONSOLAÇÃO',\n",
       "       'SÃO BENEDITO', 'PRAIA DO CANTO', 'BOA VISTA', 'SANTA LÚCIA',\n",
       "       'BARRO VERMELHO', 'ESTRELINHA', 'FORTE SÃO JOÃO', 'FONTE GRANDE',\n",
       "       'MORADA DE CAMBURI', 'ENSEADA DO SUÁ', 'SANTOS REIS', 'PIEDADE',\n",
       "       'JESUS DE NAZARETH', 'SANTA LUÍZA', 'SANTA TEREZA', 'CRUZAMENTO',\n",
       "       'ILHA DO PRÍNCIPE', 'ROMÃO', 'ILHA DAS CAIEIRAS', 'COMDUSA',\n",
       "       'SANTA CECÍLIA', 'VILA RUBIM', 'DE LOURDES', 'MONTE BELO',\n",
       "       'DO QUADRO', 'DO CABRAL', 'HORTO', 'SEGURANÇA DO LAR',\n",
       "       'ILHA DO BOI', 'FRADINHOS', 'NAZARETH', 'AEROPORTO',\n",
       "       'ILHAS OCEÂNICAS DE TRINDADE', 'PARQUE INDUSTRIAL'], dtype=object)"
      ]
     },
     "execution_count": 27,
     "metadata": {},
     "output_type": "execute_result"
    }
   ],
   "source": [
    "# check the unique entries of the Neighbourhood column\n",
    "df['Neighbourhood'].unique()"
   ]
  },
  {
   "cell_type": "code",
   "execution_count": 28,
   "id": "16036bf1",
   "metadata": {},
   "outputs": [],
   "source": [
    "# convert the Neighbourhood column to string\n",
    "# convert from 'object' datatype  to string datatype\n",
    "df['Neighbourhood'] = df['Neighbourhood'].astype(str)"
   ]
  },
  {
   "cell_type": "code",
   "execution_count": 29,
   "id": "691ebc2e",
   "metadata": {},
   "outputs": [
    {
     "data": {
      "text/plain": [
       "array(['JARDIM DA PENHA', 'MATA DA PRAIA', 'PONTAL DE CAMBURI',\n",
       "       'REPÚBLICA', 'GOIABEIRAS', 'ANDORINHAS', 'CONQUISTA',\n",
       "       'NOVA PALESTINA', 'DA PENHA', 'TABUAZEIRO', 'BENTO FERREIRA',\n",
       "       'SÃO PEDRO', 'SANTA MARTHA', 'SÃO CRISTÓVÃO', 'MARUÍPE',\n",
       "       'GRANDE VITÓRIA', 'SANTO ANDRÉ', 'SOLON BORGES', 'BONFIM',\n",
       "       'JARDIM CAMBURI', 'MARIA ORTIZ', 'JABOUR', 'ANTÔNIO HONÓRIO',\n",
       "       'RESISTÊNCIA', 'ILHA DE SANTA MARIA', 'JUCUTUQUARA',\n",
       "       'MÁRIO CYPRESTE', 'SANTO ANTÔNIO', 'BELA VISTA', 'PRAIA DO SUÁ',\n",
       "       'SANTA HELENA', 'ITARARÉ', 'INHANGUETÁ', 'UNIVERSITÁRIO',\n",
       "       'SÃO JOSÉ', 'REDENÇÃO', 'SANTA CLARA', 'CENTRO', 'PARQUE MOSCOSO',\n",
       "       'DO MOSCOSO', 'SANTOS DUMONT', 'CARATOÍRA', 'ARIOVALDO FAVALESSA',\n",
       "       'ILHA DO FRADE', 'GURIGICA', 'JOANA D´ARC', 'CONSOLAÇÃO',\n",
       "       'SÃO BENEDITO', 'PRAIA DO CANTO', 'BOA VISTA', 'SANTA LÚCIA',\n",
       "       'BARRO VERMELHO', 'ESTRELINHA', 'FORTE SÃO JOÃO', 'FONTE GRANDE',\n",
       "       'MORADA DE CAMBURI', 'ENSEADA DO SUÁ', 'SANTOS REIS', 'PIEDADE',\n",
       "       'JESUS DE NAZARETH', 'SANTA LUÍZA', 'SANTA TEREZA', 'CRUZAMENTO',\n",
       "       'ILHA DO PRÍNCIPE', 'ROMÃO', 'ILHA DAS CAIEIRAS', 'COMDUSA',\n",
       "       'SANTA CECÍLIA', 'VILA RUBIM', 'DE LOURDES', 'MONTE BELO',\n",
       "       'DO QUADRO', 'DO CABRAL', 'HORTO', 'SEGURANÇA DO LAR',\n",
       "       'ILHA DO BOI', 'FRADINHOS', 'NAZARETH', 'AEROPORTO',\n",
       "       'ILHAS OCEÂNICAS DE TRINDADE', 'PARQUE INDUSTRIAL'], dtype=object)"
      ]
     },
     "execution_count": 29,
     "metadata": {},
     "output_type": "execute_result"
    }
   ],
   "source": [
    "# check the unique entries of the Neighbourhood column\n",
    "df['Neighbourhood'].unique()"
   ]
  },
  {
   "cell_type": "code",
   "execution_count": 30,
   "id": "a23d260b",
   "metadata": {},
   "outputs": [
    {
     "name": "stdout",
     "output_type": "stream",
     "text": [
      "<class 'pandas.core.frame.DataFrame'>\n",
      "Int64Index: 106987 entries, 0 to 110526\n",
      "Data columns (total 14 columns):\n",
      " #   Column          Non-Null Count   Dtype              \n",
      "---  ------          --------------   -----              \n",
      " 0   PatientId       106987 non-null  float64            \n",
      " 1   AppointmentID   106987 non-null  int64              \n",
      " 2   Gender          106987 non-null  object             \n",
      " 3   ScheduledDay    106987 non-null  datetime64[ns, UTC]\n",
      " 4   AppointmentDay  106987 non-null  datetime64[ns, UTC]\n",
      " 5   Age             106987 non-null  int64              \n",
      " 6   Neighbourhood   106987 non-null  object             \n",
      " 7   Scholarship     106987 non-null  int64              \n",
      " 8   Hypertension    106987 non-null  int64              \n",
      " 9   Diabetes        106987 non-null  int64              \n",
      " 10  Alcoholism      106987 non-null  int64              \n",
      " 11  Handicap        106987 non-null  int64              \n",
      " 12  SMS_received    106987 non-null  int64              \n",
      " 13  No_show         106987 non-null  object             \n",
      "dtypes: datetime64[ns, UTC](2), float64(1), int64(8), object(3)\n",
      "memory usage: 12.2+ MB\n"
     ]
    }
   ],
   "source": [
    "# re-inspect the dataset uing the info() function \n",
    "df.info()"
   ]
  },
  {
   "cell_type": "code",
   "execution_count": 31,
   "id": "8448fe6c",
   "metadata": {},
   "outputs": [
    {
     "data": {
      "text/plain": [
       "array([0, 1], dtype=int64)"
      ]
     },
     "execution_count": 31,
     "metadata": {},
     "output_type": "execute_result"
    }
   ],
   "source": [
    "# check the unique entries of the Scholarship column\n",
    "df['Scholarship'].unique()"
   ]
  },
  {
   "cell_type": "code",
   "execution_count": 32,
   "id": "43b87382",
   "metadata": {},
   "outputs": [
    {
     "data": {
      "text/plain": [
       "array([1, 0], dtype=int64)"
      ]
     },
     "execution_count": 32,
     "metadata": {},
     "output_type": "execute_result"
    }
   ],
   "source": [
    "# check the unique entries of the Hypertension column\n",
    "df['Hypertension'].unique()"
   ]
  },
  {
   "cell_type": "code",
   "execution_count": 33,
   "id": "4cfcfa2e",
   "metadata": {},
   "outputs": [
    {
     "data": {
      "text/plain": [
       "array([0, 1], dtype=int64)"
      ]
     },
     "execution_count": 33,
     "metadata": {},
     "output_type": "execute_result"
    }
   ],
   "source": [
    "# check the unique entries of the Diabetes column\n",
    "df['Diabetes'].unique()"
   ]
  },
  {
   "cell_type": "code",
   "execution_count": 34,
   "id": "5ff59e95",
   "metadata": {},
   "outputs": [
    {
     "data": {
      "text/plain": [
       "array([0, 1], dtype=int64)"
      ]
     },
     "execution_count": 34,
     "metadata": {},
     "output_type": "execute_result"
    }
   ],
   "source": [
    "# check the unique entries of the Alcoholism column\n",
    "df['Alcoholism'].unique()"
   ]
  },
  {
   "cell_type": "code",
   "execution_count": 35,
   "id": "04582882",
   "metadata": {},
   "outputs": [
    {
     "data": {
      "text/plain": [
       "array([0, 1, 2, 3, 4], dtype=int64)"
      ]
     },
     "execution_count": 35,
     "metadata": {},
     "output_type": "execute_result"
    }
   ],
   "source": [
    "# check the number of unique entries of the Handicap column\n",
    "df['Handicap'].unique()"
   ]
  },
  {
   "cell_type": "code",
   "execution_count": 36,
   "id": "916f5f18",
   "metadata": {},
   "outputs": [
    {
     "data": {
      "text/plain": [
       "array([0, 1], dtype=int64)"
      ]
     },
     "execution_count": 36,
     "metadata": {},
     "output_type": "execute_result"
    }
   ],
   "source": [
    "# check the unique entries of the SMS_received column\n",
    "df['SMS_received'].unique()"
   ]
  },
  {
   "cell_type": "code",
   "execution_count": 37,
   "id": "e719bf12",
   "metadata": {},
   "outputs": [
    {
     "data": {
      "text/plain": [
       "array(['No', 'Yes'], dtype=object)"
      ]
     },
     "execution_count": 37,
     "metadata": {},
     "output_type": "execute_result"
    }
   ],
   "source": [
    "# check the unique entries of the No_show column\n",
    "df['No_show'].unique()"
   ]
  },
  {
   "cell_type": "markdown",
   "id": "010c1298",
   "metadata": {},
   "source": [
    "# Exploratory Data Analysis\n",
    "In this section,I will explore the dataset, perform  decriptive statistics and visualizations in oder to address the questions posed in the 'Questions' section."
   ]
  },
  {
   "cell_type": "code",
   "execution_count": 38,
   "id": "92ee92f7",
   "metadata": {},
   "outputs": [
    {
     "data": {
      "text/html": [
       "<div>\n",
       "<style scoped>\n",
       "    .dataframe tbody tr th:only-of-type {\n",
       "        vertical-align: middle;\n",
       "    }\n",
       "\n",
       "    .dataframe tbody tr th {\n",
       "        vertical-align: top;\n",
       "    }\n",
       "\n",
       "    .dataframe thead th {\n",
       "        text-align: right;\n",
       "    }\n",
       "</style>\n",
       "<table border=\"1\" class=\"dataframe\">\n",
       "  <thead>\n",
       "    <tr style=\"text-align: right;\">\n",
       "      <th></th>\n",
       "      <th>PatientId</th>\n",
       "      <th>AppointmentID</th>\n",
       "      <th>Age</th>\n",
       "      <th>Scholarship</th>\n",
       "      <th>Hypertension</th>\n",
       "      <th>Diabetes</th>\n",
       "      <th>Alcoholism</th>\n",
       "      <th>Handicap</th>\n",
       "      <th>SMS_received</th>\n",
       "    </tr>\n",
       "  </thead>\n",
       "  <tbody>\n",
       "    <tr>\n",
       "      <th>count</th>\n",
       "      <td>1.069870e+05</td>\n",
       "      <td>1.069870e+05</td>\n",
       "      <td>106987.000000</td>\n",
       "      <td>106987.000000</td>\n",
       "      <td>106987.000000</td>\n",
       "      <td>106987.000000</td>\n",
       "      <td>106987.000000</td>\n",
       "      <td>106987.000000</td>\n",
       "      <td>106987.000000</td>\n",
       "    </tr>\n",
       "    <tr>\n",
       "      <th>mean</th>\n",
       "      <td>1.472814e+14</td>\n",
       "      <td>5.675434e+06</td>\n",
       "      <td>38.316085</td>\n",
       "      <td>0.101031</td>\n",
       "      <td>0.203772</td>\n",
       "      <td>0.074243</td>\n",
       "      <td>0.031406</td>\n",
       "      <td>0.022975</td>\n",
       "      <td>0.323264</td>\n",
       "    </tr>\n",
       "    <tr>\n",
       "      <th>std</th>\n",
       "      <td>2.558267e+14</td>\n",
       "      <td>7.133274e+04</td>\n",
       "      <td>22.466214</td>\n",
       "      <td>0.301371</td>\n",
       "      <td>0.402804</td>\n",
       "      <td>0.262167</td>\n",
       "      <td>0.174412</td>\n",
       "      <td>0.164115</td>\n",
       "      <td>0.467725</td>\n",
       "    </tr>\n",
       "    <tr>\n",
       "      <th>min</th>\n",
       "      <td>3.921784e+04</td>\n",
       "      <td>5.030230e+06</td>\n",
       "      <td>1.000000</td>\n",
       "      <td>0.000000</td>\n",
       "      <td>0.000000</td>\n",
       "      <td>0.000000</td>\n",
       "      <td>0.000000</td>\n",
       "      <td>0.000000</td>\n",
       "      <td>0.000000</td>\n",
       "    </tr>\n",
       "    <tr>\n",
       "      <th>25%</th>\n",
       "      <td>4.173523e+12</td>\n",
       "      <td>5.640490e+06</td>\n",
       "      <td>19.000000</td>\n",
       "      <td>0.000000</td>\n",
       "      <td>0.000000</td>\n",
       "      <td>0.000000</td>\n",
       "      <td>0.000000</td>\n",
       "      <td>0.000000</td>\n",
       "      <td>0.000000</td>\n",
       "    </tr>\n",
       "    <tr>\n",
       "      <th>50%</th>\n",
       "      <td>3.172463e+13</td>\n",
       "      <td>5.680744e+06</td>\n",
       "      <td>38.000000</td>\n",
       "      <td>0.000000</td>\n",
       "      <td>0.000000</td>\n",
       "      <td>0.000000</td>\n",
       "      <td>0.000000</td>\n",
       "      <td>0.000000</td>\n",
       "      <td>0.000000</td>\n",
       "    </tr>\n",
       "    <tr>\n",
       "      <th>75%</th>\n",
       "      <td>9.433600e+13</td>\n",
       "      <td>5.725634e+06</td>\n",
       "      <td>56.000000</td>\n",
       "      <td>0.000000</td>\n",
       "      <td>0.000000</td>\n",
       "      <td>0.000000</td>\n",
       "      <td>0.000000</td>\n",
       "      <td>0.000000</td>\n",
       "      <td>1.000000</td>\n",
       "    </tr>\n",
       "    <tr>\n",
       "      <th>max</th>\n",
       "      <td>9.999816e+14</td>\n",
       "      <td>5.790484e+06</td>\n",
       "      <td>115.000000</td>\n",
       "      <td>1.000000</td>\n",
       "      <td>1.000000</td>\n",
       "      <td>1.000000</td>\n",
       "      <td>1.000000</td>\n",
       "      <td>4.000000</td>\n",
       "      <td>1.000000</td>\n",
       "    </tr>\n",
       "  </tbody>\n",
       "</table>\n",
       "</div>"
      ],
      "text/plain": [
       "          PatientId  AppointmentID            Age    Scholarship  \\\n",
       "count  1.069870e+05   1.069870e+05  106987.000000  106987.000000   \n",
       "mean   1.472814e+14   5.675434e+06      38.316085       0.101031   \n",
       "std    2.558267e+14   7.133274e+04      22.466214       0.301371   \n",
       "min    3.921784e+04   5.030230e+06       1.000000       0.000000   \n",
       "25%    4.173523e+12   5.640490e+06      19.000000       0.000000   \n",
       "50%    3.172463e+13   5.680744e+06      38.000000       0.000000   \n",
       "75%    9.433600e+13   5.725634e+06      56.000000       0.000000   \n",
       "max    9.999816e+14   5.790484e+06     115.000000       1.000000   \n",
       "\n",
       "        Hypertension       Diabetes     Alcoholism       Handicap  \\\n",
       "count  106987.000000  106987.000000  106987.000000  106987.000000   \n",
       "mean        0.203772       0.074243       0.031406       0.022975   \n",
       "std         0.402804       0.262167       0.174412       0.164115   \n",
       "min         0.000000       0.000000       0.000000       0.000000   \n",
       "25%         0.000000       0.000000       0.000000       0.000000   \n",
       "50%         0.000000       0.000000       0.000000       0.000000   \n",
       "75%         0.000000       0.000000       0.000000       0.000000   \n",
       "max         1.000000       1.000000       1.000000       4.000000   \n",
       "\n",
       "        SMS_received  \n",
       "count  106987.000000  \n",
       "mean        0.323264  \n",
       "std         0.467725  \n",
       "min         0.000000  \n",
       "25%         0.000000  \n",
       "50%         0.000000  \n",
       "75%         1.000000  \n",
       "max         1.000000  "
      ]
     },
     "execution_count": 38,
     "metadata": {},
     "output_type": "execute_result"
    }
   ],
   "source": [
    "# descriptive statistics \n",
    "df.describe()"
   ]
  },
  {
   "cell_type": "code",
   "execution_count": 39,
   "id": "a44fd9f5",
   "metadata": {},
   "outputs": [
    {
     "data": {
      "image/png": "[encoded data removed]",
      "text/plain": [
       "<Figure size 2500x1700 with 12 Axes>"
      ]
     },
     "metadata": {},
     "output_type": "display_data"
    }
   ],
   "source": [
    "#  histograms of the dataset\n",
    "\n",
    "df.hist( figsize = (25, 17));"
   ]
  },
  {
   "cell_type": "code",
   "execution_count": 40,
   "id": "d6a92b8c",
   "metadata": {},
   "outputs": [
    {
     "data": {
      "text/html": [
       "<div>\n",
       "<style scoped>\n",
       "    .dataframe tbody tr th:only-of-type {\n",
       "        vertical-align: middle;\n",
       "    }\n",
       "\n",
       "    .dataframe tbody tr th {\n",
       "        vertical-align: top;\n",
       "    }\n",
       "\n",
       "    .dataframe thead th {\n",
       "        text-align: right;\n",
       "    }\n",
       "</style>\n",
       "<table border=\"1\" class=\"dataframe\">\n",
       "  <thead>\n",
       "    <tr style=\"text-align: right;\">\n",
       "      <th></th>\n",
       "      <th>PatientId</th>\n",
       "      <th>AppointmentID</th>\n",
       "      <th>Gender</th>\n",
       "      <th>ScheduledDay</th>\n",
       "      <th>AppointmentDay</th>\n",
       "      <th>Age</th>\n",
       "      <th>Neighbourhood</th>\n",
       "      <th>Scholarship</th>\n",
       "      <th>Hypertension</th>\n",
       "      <th>Diabetes</th>\n",
       "      <th>Alcoholism</th>\n",
       "      <th>Handicap</th>\n",
       "      <th>SMS_received</th>\n",
       "      <th>No_show</th>\n",
       "    </tr>\n",
       "  </thead>\n",
       "  <tbody>\n",
       "    <tr>\n",
       "      <th>0</th>\n",
       "      <td>2.987250e+13</td>\n",
       "      <td>5642903</td>\n",
       "      <td>F</td>\n",
       "      <td>2016-04-29 18:38:08+00:00</td>\n",
       "      <td>2016-04-29 00:00:00+00:00</td>\n",
       "      <td>62</td>\n",
       "      <td>JARDIM DA PENHA</td>\n",
       "      <td>0</td>\n",
       "      <td>1</td>\n",
       "      <td>0</td>\n",
       "      <td>0</td>\n",
       "      <td>0</td>\n",
       "      <td>0</td>\n",
       "      <td>No</td>\n",
       "    </tr>\n",
       "    <tr>\n",
       "      <th>2</th>\n",
       "      <td>4.262962e+12</td>\n",
       "      <td>5642549</td>\n",
       "      <td>F</td>\n",
       "      <td>2016-04-29 16:19:04+00:00</td>\n",
       "      <td>2016-04-29 00:00:00+00:00</td>\n",
       "      <td>62</td>\n",
       "      <td>MATA DA PRAIA</td>\n",
       "      <td>0</td>\n",
       "      <td>0</td>\n",
       "      <td>0</td>\n",
       "      <td>0</td>\n",
       "      <td>0</td>\n",
       "      <td>0</td>\n",
       "      <td>No</td>\n",
       "    </tr>\n",
       "    <tr>\n",
       "      <th>3</th>\n",
       "      <td>8.679512e+11</td>\n",
       "      <td>5642828</td>\n",
       "      <td>F</td>\n",
       "      <td>2016-04-29 17:29:31+00:00</td>\n",
       "      <td>2016-04-29 00:00:00+00:00</td>\n",
       "      <td>8</td>\n",
       "      <td>PONTAL DE CAMBURI</td>\n",
       "      <td>0</td>\n",
       "      <td>0</td>\n",
       "      <td>0</td>\n",
       "      <td>0</td>\n",
       "      <td>0</td>\n",
       "      <td>0</td>\n",
       "      <td>No</td>\n",
       "    </tr>\n",
       "    <tr>\n",
       "      <th>4</th>\n",
       "      <td>8.841186e+12</td>\n",
       "      <td>5642494</td>\n",
       "      <td>F</td>\n",
       "      <td>2016-04-29 16:07:23+00:00</td>\n",
       "      <td>2016-04-29 00:00:00+00:00</td>\n",
       "      <td>56</td>\n",
       "      <td>JARDIM DA PENHA</td>\n",
       "      <td>0</td>\n",
       "      <td>1</td>\n",
       "      <td>1</td>\n",
       "      <td>0</td>\n",
       "      <td>0</td>\n",
       "      <td>0</td>\n",
       "      <td>No</td>\n",
       "    </tr>\n",
       "    <tr>\n",
       "      <th>5</th>\n",
       "      <td>9.598513e+13</td>\n",
       "      <td>5626772</td>\n",
       "      <td>F</td>\n",
       "      <td>2016-04-27 08:36:51+00:00</td>\n",
       "      <td>2016-04-29 00:00:00+00:00</td>\n",
       "      <td>76</td>\n",
       "      <td>REPÚBLICA</td>\n",
       "      <td>0</td>\n",
       "      <td>1</td>\n",
       "      <td>0</td>\n",
       "      <td>0</td>\n",
       "      <td>0</td>\n",
       "      <td>0</td>\n",
       "      <td>No</td>\n",
       "    </tr>\n",
       "    <tr>\n",
       "      <th>...</th>\n",
       "      <td>...</td>\n",
       "      <td>...</td>\n",
       "      <td>...</td>\n",
       "      <td>...</td>\n",
       "      <td>...</td>\n",
       "      <td>...</td>\n",
       "      <td>...</td>\n",
       "      <td>...</td>\n",
       "      <td>...</td>\n",
       "      <td>...</td>\n",
       "      <td>...</td>\n",
       "      <td>...</td>\n",
       "      <td>...</td>\n",
       "      <td>...</td>\n",
       "    </tr>\n",
       "    <tr>\n",
       "      <th>110522</th>\n",
       "      <td>2.572134e+12</td>\n",
       "      <td>5651768</td>\n",
       "      <td>F</td>\n",
       "      <td>2016-05-03 09:15:35+00:00</td>\n",
       "      <td>2016-06-07 00:00:00+00:00</td>\n",
       "      <td>56</td>\n",
       "      <td>MARIA ORTIZ</td>\n",
       "      <td>0</td>\n",
       "      <td>0</td>\n",
       "      <td>0</td>\n",
       "      <td>0</td>\n",
       "      <td>0</td>\n",
       "      <td>1</td>\n",
       "      <td>No</td>\n",
       "    </tr>\n",
       "    <tr>\n",
       "      <th>110523</th>\n",
       "      <td>3.596266e+12</td>\n",
       "      <td>5650093</td>\n",
       "      <td>F</td>\n",
       "      <td>2016-05-03 07:27:33+00:00</td>\n",
       "      <td>2016-06-07 00:00:00+00:00</td>\n",
       "      <td>51</td>\n",
       "      <td>MARIA ORTIZ</td>\n",
       "      <td>0</td>\n",
       "      <td>0</td>\n",
       "      <td>0</td>\n",
       "      <td>0</td>\n",
       "      <td>0</td>\n",
       "      <td>1</td>\n",
       "      <td>No</td>\n",
       "    </tr>\n",
       "    <tr>\n",
       "      <th>110524</th>\n",
       "      <td>1.557663e+13</td>\n",
       "      <td>5630692</td>\n",
       "      <td>F</td>\n",
       "      <td>2016-04-27 16:03:52+00:00</td>\n",
       "      <td>2016-06-07 00:00:00+00:00</td>\n",
       "      <td>21</td>\n",
       "      <td>MARIA ORTIZ</td>\n",
       "      <td>0</td>\n",
       "      <td>0</td>\n",
       "      <td>0</td>\n",
       "      <td>0</td>\n",
       "      <td>0</td>\n",
       "      <td>1</td>\n",
       "      <td>No</td>\n",
       "    </tr>\n",
       "    <tr>\n",
       "      <th>110525</th>\n",
       "      <td>9.213493e+13</td>\n",
       "      <td>5630323</td>\n",
       "      <td>F</td>\n",
       "      <td>2016-04-27 15:09:23+00:00</td>\n",
       "      <td>2016-06-07 00:00:00+00:00</td>\n",
       "      <td>38</td>\n",
       "      <td>MARIA ORTIZ</td>\n",
       "      <td>0</td>\n",
       "      <td>0</td>\n",
       "      <td>0</td>\n",
       "      <td>0</td>\n",
       "      <td>0</td>\n",
       "      <td>1</td>\n",
       "      <td>No</td>\n",
       "    </tr>\n",
       "    <tr>\n",
       "      <th>110526</th>\n",
       "      <td>3.775115e+14</td>\n",
       "      <td>5629448</td>\n",
       "      <td>F</td>\n",
       "      <td>2016-04-27 13:30:56+00:00</td>\n",
       "      <td>2016-06-07 00:00:00+00:00</td>\n",
       "      <td>54</td>\n",
       "      <td>MARIA ORTIZ</td>\n",
       "      <td>0</td>\n",
       "      <td>0</td>\n",
       "      <td>0</td>\n",
       "      <td>0</td>\n",
       "      <td>0</td>\n",
       "      <td>1</td>\n",
       "      <td>No</td>\n",
       "    </tr>\n",
       "  </tbody>\n",
       "</table>\n",
       "<p>70118 rows × 14 columns</p>\n",
       "</div>"
      ],
      "text/plain": [
       "           PatientId  AppointmentID Gender              ScheduledDay  \\\n",
       "0       2.987250e+13        5642903      F 2016-04-29 18:38:08+00:00   \n",
       "2       4.262962e+12        5642549      F 2016-04-29 16:19:04+00:00   \n",
       "3       8.679512e+11        5642828      F 2016-04-29 17:29:31+00:00   \n",
       "4       8.841186e+12        5642494      F 2016-04-29 16:07:23+00:00   \n",
       "5       9.598513e+13        5626772      F 2016-04-27 08:36:51+00:00   \n",
       "...              ...            ...    ...                       ...   \n",
       "110522  2.572134e+12        5651768      F 2016-05-03 09:15:35+00:00   \n",
       "110523  3.596266e+12        5650093      F 2016-05-03 07:27:33+00:00   \n",
       "110524  1.557663e+13        5630692      F 2016-04-27 16:03:52+00:00   \n",
       "110525  9.213493e+13        5630323      F 2016-04-27 15:09:23+00:00   \n",
       "110526  3.775115e+14        5629448      F 2016-04-27 13:30:56+00:00   \n",
       "\n",
       "                  AppointmentDay  Age      Neighbourhood  Scholarship  \\\n",
       "0      2016-04-29 00:00:00+00:00   62    JARDIM DA PENHA            0   \n",
       "2      2016-04-29 00:00:00+00:00   62      MATA DA PRAIA            0   \n",
       "3      2016-04-29 00:00:00+00:00    8  PONTAL DE CAMBURI            0   \n",
       "4      2016-04-29 00:00:00+00:00   56    JARDIM DA PENHA            0   \n",
       "5      2016-04-29 00:00:00+00:00   76          REPÚBLICA            0   \n",
       "...                          ...  ...                ...          ...   \n",
       "110522 2016-06-07 00:00:00+00:00   56        MARIA ORTIZ            0   \n",
       "110523 2016-06-07 00:00:00+00:00   51        MARIA ORTIZ            0   \n",
       "110524 2016-06-07 00:00:00+00:00   21        MARIA ORTIZ            0   \n",
       "110525 2016-06-07 00:00:00+00:00   38        MARIA ORTIZ            0   \n",
       "110526 2016-06-07 00:00:00+00:00   54        MARIA ORTIZ            0   \n",
       "\n",
       "        Hypertension  Diabetes  Alcoholism  Handicap  SMS_received No_show  \n",
       "0                  1         0           0         0             0      No  \n",
       "2                  0         0           0         0             0      No  \n",
       "3                  0         0           0         0             0      No  \n",
       "4                  1         1           0         0             0      No  \n",
       "5                  1         0           0         0             0      No  \n",
       "...              ...       ...         ...       ...           ...     ...  \n",
       "110522             0         0           0         0             1      No  \n",
       "110523             0         0           0         0             1      No  \n",
       "110524             0         0           0         0             1      No  \n",
       "110525             0         0           0         0             1      No  \n",
       "110526             0         0           0         0             1      No  \n",
       "\n",
       "[70118 rows x 14 columns]"
      ]
     },
     "execution_count": 40,
     "metadata": {},
     "output_type": "execute_result"
    }
   ],
   "source": [
    "# a query to check the females in the dataset \n",
    "df.query('Gender == \"F\"') "
   ]
  },
  {
   "cell_type": "code",
   "execution_count": 41,
   "id": "de1f8ac6",
   "metadata": {
    "scrolled": true
   },
   "outputs": [
    {
     "data": {
      "text/plain": [
       "0    72402\n",
       "1    34585\n",
       "Name: SMS_received, dtype: int64"
      ]
     },
     "execution_count": 41,
     "metadata": {},
     "output_type": "execute_result"
    }
   ],
   "source": [
    "# value counts of the SMS_received column\n",
    "df.SMS_received.value_counts()"
   ]
  },
  {
   "cell_type": "markdown",
   "id": "8fd25983",
   "metadata": {},
   "source": [
    "from the above, 72402 people did not receive sms while  34585 did. Thus more people did not received sms"
   ]
  },
  {
   "cell_type": "code",
   "execution_count": 42,
   "id": "951b3a8a",
   "metadata": {
    "scrolled": true
   },
   "outputs": [
    {
     "data": {
      "text/plain": [
       "No     85307\n",
       "Yes    21680\n",
       "Name: No_show, dtype: int64"
      ]
     },
     "execution_count": 42,
     "metadata": {},
     "output_type": "execute_result"
    }
   ],
   "source": [
    "# value counts of the No_show column\n",
    "df.No_show.value_counts()"
   ]
  },
  {
   "cell_type": "code",
   "execution_count": 43,
   "id": "80768c0c",
   "metadata": {},
   "outputs": [],
   "source": [
    "# a query  to check the data on those that missed or did not show up for their appointment \n",
    "df1 =df['No_show'] == 'Yes'"
   ]
  },
  {
   "cell_type": "code",
   "execution_count": 44,
   "id": "b19c039f",
   "metadata": {},
   "outputs": [
    {
     "data": {
      "text/html": [
       "<div>\n",
       "<style scoped>\n",
       "    .dataframe tbody tr th:only-of-type {\n",
       "        vertical-align: middle;\n",
       "    }\n",
       "\n",
       "    .dataframe tbody tr th {\n",
       "        vertical-align: top;\n",
       "    }\n",
       "\n",
       "    .dataframe thead th {\n",
       "        text-align: right;\n",
       "    }\n",
       "</style>\n",
       "<table border=\"1\" class=\"dataframe\">\n",
       "  <thead>\n",
       "    <tr style=\"text-align: right;\">\n",
       "      <th></th>\n",
       "      <th>PatientId</th>\n",
       "      <th>AppointmentID</th>\n",
       "      <th>Gender</th>\n",
       "      <th>ScheduledDay</th>\n",
       "      <th>AppointmentDay</th>\n",
       "      <th>Age</th>\n",
       "      <th>Neighbourhood</th>\n",
       "      <th>Scholarship</th>\n",
       "      <th>Hypertension</th>\n",
       "      <th>Diabetes</th>\n",
       "      <th>Alcoholism</th>\n",
       "      <th>Handicap</th>\n",
       "      <th>SMS_received</th>\n",
       "      <th>No_show</th>\n",
       "    </tr>\n",
       "  </thead>\n",
       "  <tbody>\n",
       "    <tr>\n",
       "      <th>6</th>\n",
       "      <td>7.336882e+14</td>\n",
       "      <td>5630279</td>\n",
       "      <td>F</td>\n",
       "      <td>2016-04-27 15:05:12+00:00</td>\n",
       "      <td>2016-04-29 00:00:00+00:00</td>\n",
       "      <td>23</td>\n",
       "      <td>GOIABEIRAS</td>\n",
       "      <td>0</td>\n",
       "      <td>0</td>\n",
       "      <td>0</td>\n",
       "      <td>0</td>\n",
       "      <td>0</td>\n",
       "      <td>0</td>\n",
       "      <td>Yes</td>\n",
       "    </tr>\n",
       "    <tr>\n",
       "      <th>7</th>\n",
       "      <td>3.449833e+12</td>\n",
       "      <td>5630575</td>\n",
       "      <td>F</td>\n",
       "      <td>2016-04-27 15:39:58+00:00</td>\n",
       "      <td>2016-04-29 00:00:00+00:00</td>\n",
       "      <td>39</td>\n",
       "      <td>GOIABEIRAS</td>\n",
       "      <td>0</td>\n",
       "      <td>0</td>\n",
       "      <td>0</td>\n",
       "      <td>0</td>\n",
       "      <td>0</td>\n",
       "      <td>0</td>\n",
       "      <td>Yes</td>\n",
       "    </tr>\n",
       "    <tr>\n",
       "      <th>11</th>\n",
       "      <td>7.542951e+12</td>\n",
       "      <td>5620163</td>\n",
       "      <td>M</td>\n",
       "      <td>2016-04-26 08:44:12+00:00</td>\n",
       "      <td>2016-04-29 00:00:00+00:00</td>\n",
       "      <td>29</td>\n",
       "      <td>NOVA PALESTINA</td>\n",
       "      <td>0</td>\n",
       "      <td>0</td>\n",
       "      <td>0</td>\n",
       "      <td>0</td>\n",
       "      <td>0</td>\n",
       "      <td>1</td>\n",
       "      <td>Yes</td>\n",
       "    </tr>\n",
       "    <tr>\n",
       "      <th>17</th>\n",
       "      <td>1.479497e+13</td>\n",
       "      <td>5633460</td>\n",
       "      <td>F</td>\n",
       "      <td>2016-04-28 09:28:57+00:00</td>\n",
       "      <td>2016-04-29 00:00:00+00:00</td>\n",
       "      <td>40</td>\n",
       "      <td>CONQUISTA</td>\n",
       "      <td>1</td>\n",
       "      <td>0</td>\n",
       "      <td>0</td>\n",
       "      <td>0</td>\n",
       "      <td>0</td>\n",
       "      <td>0</td>\n",
       "      <td>Yes</td>\n",
       "    </tr>\n",
       "    <tr>\n",
       "      <th>20</th>\n",
       "      <td>6.222575e+14</td>\n",
       "      <td>5626083</td>\n",
       "      <td>F</td>\n",
       "      <td>2016-04-27 07:51:14+00:00</td>\n",
       "      <td>2016-04-29 00:00:00+00:00</td>\n",
       "      <td>30</td>\n",
       "      <td>NOVA PALESTINA</td>\n",
       "      <td>0</td>\n",
       "      <td>0</td>\n",
       "      <td>0</td>\n",
       "      <td>0</td>\n",
       "      <td>0</td>\n",
       "      <td>0</td>\n",
       "      <td>Yes</td>\n",
       "    </tr>\n",
       "    <tr>\n",
       "      <th>...</th>\n",
       "      <td>...</td>\n",
       "      <td>...</td>\n",
       "      <td>...</td>\n",
       "      <td>...</td>\n",
       "      <td>...</td>\n",
       "      <td>...</td>\n",
       "      <td>...</td>\n",
       "      <td>...</td>\n",
       "      <td>...</td>\n",
       "      <td>...</td>\n",
       "      <td>...</td>\n",
       "      <td>...</td>\n",
       "      <td>...</td>\n",
       "      <td>...</td>\n",
       "    </tr>\n",
       "    <tr>\n",
       "      <th>110484</th>\n",
       "      <td>5.133650e+14</td>\n",
       "      <td>5772155</td>\n",
       "      <td>F</td>\n",
       "      <td>2016-06-03 14:43:56+00:00</td>\n",
       "      <td>2016-06-07 00:00:00+00:00</td>\n",
       "      <td>45</td>\n",
       "      <td>BARRO VERMELHO</td>\n",
       "      <td>0</td>\n",
       "      <td>0</td>\n",
       "      <td>0</td>\n",
       "      <td>0</td>\n",
       "      <td>0</td>\n",
       "      <td>0</td>\n",
       "      <td>Yes</td>\n",
       "    </tr>\n",
       "    <tr>\n",
       "      <th>110492</th>\n",
       "      <td>6.456342e+14</td>\n",
       "      <td>5786741</td>\n",
       "      <td>M</td>\n",
       "      <td>2016-06-08 08:50:19+00:00</td>\n",
       "      <td>2016-06-08 00:00:00+00:00</td>\n",
       "      <td>33</td>\n",
       "      <td>MARIA ORTIZ</td>\n",
       "      <td>0</td>\n",
       "      <td>1</td>\n",
       "      <td>0</td>\n",
       "      <td>0</td>\n",
       "      <td>0</td>\n",
       "      <td>0</td>\n",
       "      <td>Yes</td>\n",
       "    </tr>\n",
       "    <tr>\n",
       "      <th>110496</th>\n",
       "      <td>8.544295e+13</td>\n",
       "      <td>5779046</td>\n",
       "      <td>F</td>\n",
       "      <td>2016-06-06 17:35:38+00:00</td>\n",
       "      <td>2016-06-08 00:00:00+00:00</td>\n",
       "      <td>37</td>\n",
       "      <td>MARIA ORTIZ</td>\n",
       "      <td>0</td>\n",
       "      <td>1</td>\n",
       "      <td>0</td>\n",
       "      <td>0</td>\n",
       "      <td>0</td>\n",
       "      <td>0</td>\n",
       "      <td>Yes</td>\n",
       "    </tr>\n",
       "    <tr>\n",
       "      <th>110515</th>\n",
       "      <td>6.456342e+14</td>\n",
       "      <td>5778621</td>\n",
       "      <td>M</td>\n",
       "      <td>2016-06-06 15:58:05+00:00</td>\n",
       "      <td>2016-06-08 00:00:00+00:00</td>\n",
       "      <td>33</td>\n",
       "      <td>MARIA ORTIZ</td>\n",
       "      <td>0</td>\n",
       "      <td>1</td>\n",
       "      <td>0</td>\n",
       "      <td>0</td>\n",
       "      <td>0</td>\n",
       "      <td>0</td>\n",
       "      <td>Yes</td>\n",
       "    </tr>\n",
       "    <tr>\n",
       "      <th>110516</th>\n",
       "      <td>6.923772e+13</td>\n",
       "      <td>5780205</td>\n",
       "      <td>F</td>\n",
       "      <td>2016-06-07 07:45:16+00:00</td>\n",
       "      <td>2016-06-08 00:00:00+00:00</td>\n",
       "      <td>37</td>\n",
       "      <td>MARIA ORTIZ</td>\n",
       "      <td>0</td>\n",
       "      <td>0</td>\n",
       "      <td>0</td>\n",
       "      <td>0</td>\n",
       "      <td>0</td>\n",
       "      <td>0</td>\n",
       "      <td>Yes</td>\n",
       "    </tr>\n",
       "  </tbody>\n",
       "</table>\n",
       "<p>21680 rows × 14 columns</p>\n",
       "</div>"
      ],
      "text/plain": [
       "           PatientId  AppointmentID Gender              ScheduledDay  \\\n",
       "6       7.336882e+14        5630279      F 2016-04-27 15:05:12+00:00   \n",
       "7       3.449833e+12        5630575      F 2016-04-27 15:39:58+00:00   \n",
       "11      7.542951e+12        5620163      M 2016-04-26 08:44:12+00:00   \n",
       "17      1.479497e+13        5633460      F 2016-04-28 09:28:57+00:00   \n",
       "20      6.222575e+14        5626083      F 2016-04-27 07:51:14+00:00   \n",
       "...              ...            ...    ...                       ...   \n",
       "110484  5.133650e+14        5772155      F 2016-06-03 14:43:56+00:00   \n",
       "110492  6.456342e+14        5786741      M 2016-06-08 08:50:19+00:00   \n",
       "110496  8.544295e+13        5779046      F 2016-06-06 17:35:38+00:00   \n",
       "110515  6.456342e+14        5778621      M 2016-06-06 15:58:05+00:00   \n",
       "110516  6.923772e+13        5780205      F 2016-06-07 07:45:16+00:00   \n",
       "\n",
       "                  AppointmentDay  Age   Neighbourhood  Scholarship  \\\n",
       "6      2016-04-29 00:00:00+00:00   23      GOIABEIRAS            0   \n",
       "7      2016-04-29 00:00:00+00:00   39      GOIABEIRAS            0   \n",
       "11     2016-04-29 00:00:00+00:00   29  NOVA PALESTINA            0   \n",
       "17     2016-04-29 00:00:00+00:00   40       CONQUISTA            1   \n",
       "20     2016-04-29 00:00:00+00:00   30  NOVA PALESTINA            0   \n",
       "...                          ...  ...             ...          ...   \n",
       "110484 2016-06-07 00:00:00+00:00   45  BARRO VERMELHO            0   \n",
       "110492 2016-06-08 00:00:00+00:00   33     MARIA ORTIZ            0   \n",
       "110496 2016-06-08 00:00:00+00:00   37     MARIA ORTIZ            0   \n",
       "110515 2016-06-08 00:00:00+00:00   33     MARIA ORTIZ            0   \n",
       "110516 2016-06-08 00:00:00+00:00   37     MARIA ORTIZ            0   \n",
       "\n",
       "        Hypertension  Diabetes  Alcoholism  Handicap  SMS_received No_show  \n",
       "6                  0         0           0         0             0     Yes  \n",
       "7                  0         0           0         0             0     Yes  \n",
       "11                 0         0           0         0             1     Yes  \n",
       "17                 0         0           0         0             0     Yes  \n",
       "20                 0         0           0         0             0     Yes  \n",
       "...              ...       ...         ...       ...           ...     ...  \n",
       "110484             0         0           0         0             0     Yes  \n",
       "110492             1         0           0         0             0     Yes  \n",
       "110496             1         0           0         0             0     Yes  \n",
       "110515             1         0           0         0             0     Yes  \n",
       "110516             0         0           0         0             0     Yes  \n",
       "\n",
       "[21680 rows x 14 columns]"
      ]
     },
     "execution_count": 44,
     "metadata": {},
     "output_type": "execute_result"
    }
   ],
   "source": [
    "# same operation as performed above\n",
    "df.query('No_show ==\"Yes\"')"
   ]
  },
  {
   "cell_type": "markdown",
   "id": "22e8d5f8",
   "metadata": {},
   "source": [
    "### Questions\n",
    "### As stated in the 'Questions' section above, I will be addressing these questions\n",
    " \n",
    " \n",
    "\n",
    "1.\n",
    "* how many females and males are there in the dataset?\n",
    "* how many males and females showed up for their appointment  and what's the percentage ?\n",
    "* how many males and females missed their appointment  and what's the percentage?\n",
    "\n",
    "2.how many females received sms and showed up as against those that did not receive any sms but still showed up?\n",
    "\n",
    "3.\n",
    "* what percentage of females are diabetic?\n",
    "* are there female children who are diabetic? how many?\n",
    "* how many diabetics and alcoholics showed up for the appointment and how many did not?\n",
    "\n"
   ]
  },
  {
   "cell_type": "markdown",
   "id": "fd8fed38",
   "metadata": {},
   "source": [
    "### let's start addressing the questions  one at a time\n",
    "\n",
    "### 1.how many males and females :\n",
    "* are there in the dataset \n",
    "* showed up for their appointment  and what's the percentage\n",
    "* missed their appointment  and what's the percentage"
   ]
  },
  {
   "cell_type": "code",
   "execution_count": 45,
   "id": "589fec52",
   "metadata": {},
   "outputs": [
    {
     "data": {
      "text/plain": [
       "True     70118\n",
       "False    36869\n",
       "Name: Gender, dtype: int64"
      ]
     },
     "execution_count": 45,
     "metadata": {},
     "output_type": "execute_result"
    }
   ],
   "source": [
    "# value count of the females in the dataset \n",
    "females = (df['Gender'] == 'F').value_counts()\n",
    "females"
   ]
  },
  {
   "cell_type": "markdown",
   "id": "3f6b12b5",
   "metadata": {},
   "source": [
    "From the output above, there are 70118 females and 36869 males.\n",
    "Obviously there are more females than males"
   ]
  },
  {
   "cell_type": "markdown",
   "id": "c97836d2",
   "metadata": {},
   "source": [
    "### how many females showed up for their appointment ?\n",
    "####  'No' in the 'No_show' column actually means the person showed up, and 'Yes' otherwise"
   ]
  },
  {
   "cell_type": "code",
   "execution_count": 46,
   "id": "6924e212",
   "metadata": {},
   "outputs": [],
   "source": [
    "#females that showed up for their appointment\n",
    "females_and_show_up = (df['Gender'] == 'F') & (df['No_show'] == 'No')"
   ]
  },
  {
   "cell_type": "code",
   "execution_count": 47,
   "id": "aec0755d",
   "metadata": {},
   "outputs": [
    {
     "data": {
      "text/plain": [
       "True     55843\n",
       "False    51144\n",
       "dtype: int64"
      ]
     },
     "execution_count": 47,
     "metadata": {},
     "output_type": "execute_result"
    }
   ],
   "source": [
    "# get the number or the value count of the females that showed up\n",
    "females_and_show_up.value_counts()"
   ]
  },
  {
   "cell_type": "code",
   "execution_count": 48,
   "id": "a082f4f1",
   "metadata": {
    "scrolled": true
   },
   "outputs": [
    {
     "data": {
      "text/plain": [
       "55843"
      ]
     },
     "execution_count": 48,
     "metadata": {},
     "output_type": "execute_result"
    }
   ],
   "source": [
    "# get the first output of the above operation.i.e the 'True' part of the output\n",
    "females_and_show_up.value_counts()[0]"
   ]
  },
  {
   "cell_type": "markdown",
   "id": "cf8074b6",
   "metadata": {},
   "source": [
    "55843 females showed up for the appointment"
   ]
  },
  {
   "cell_type": "markdown",
   "id": "c4c849e0",
   "metadata": {},
   "source": [
    "### percentage of females that showed up"
   ]
  },
  {
   "cell_type": "code",
   "execution_count": 49,
   "id": "78a51774",
   "metadata": {},
   "outputs": [
    {
     "data": {
      "text/plain": [
       "52.0"
      ]
     },
     "execution_count": 49,
     "metadata": {},
     "output_type": "execute_result"
    }
   ],
   "source": [
    "# percentage of females that showed up\n",
    "# round to the nearest whole number\n",
    "\n",
    "x =females_and_show_up.value_counts()[0]\n",
    "y =females_and_show_up.value_counts()[1]\n",
    "z =females_and_show_up.value_counts()[0] + females_and_show_up.value_counts()[1]\n",
    "((x / z) * 100).round()"
   ]
  },
  {
   "cell_type": "markdown",
   "id": "73e912d4",
   "metadata": {},
   "source": [
    "percentage of females that showed up is Approximately 52% of the total number"
   ]
  },
  {
   "cell_type": "markdown",
   "id": "3dedff87",
   "metadata": {},
   "source": [
    "### how many males showed up for their appointment ?"
   ]
  },
  {
   "cell_type": "code",
   "execution_count": 50,
   "id": "9eac374d",
   "metadata": {},
   "outputs": [],
   "source": [
    "#males that showed up for their appointment\n",
    "males_and_show_up = (df['Gender'] == 'M') & (df['No_show'] == 'No')"
   ]
  },
  {
   "cell_type": "code",
   "execution_count": 51,
   "id": "ce4d6ae0",
   "metadata": {},
   "outputs": [
    {
     "data": {
      "text/plain": [
       "False    77523\n",
       "True     29464\n",
       "dtype: int64"
      ]
     },
     "execution_count": 51,
     "metadata": {},
     "output_type": "execute_result"
    }
   ],
   "source": [
    "# get the number or the value count of the males that showed up\n",
    "males_and_show_up.value_counts()\n"
   ]
  },
  {
   "cell_type": "code",
   "execution_count": 52,
   "id": "6dd170f1",
   "metadata": {},
   "outputs": [
    {
     "data": {
      "text/plain": [
       "29464"
      ]
     },
     "execution_count": 52,
     "metadata": {},
     "output_type": "execute_result"
    }
   ],
   "source": [
    "# get the second output of the above operation.i.e the 'True' part of the output\n",
    "y = males_and_show_up.value_counts()[1]\n",
    "y"
   ]
  },
  {
   "cell_type": "markdown",
   "id": "77902dbf",
   "metadata": {},
   "source": [
    "29464 males showed up for the appointment"
   ]
  },
  {
   "cell_type": "markdown",
   "id": "64078905",
   "metadata": {},
   "source": [
    "### percentage of males that showed up"
   ]
  },
  {
   "cell_type": "code",
   "execution_count": 53,
   "id": "7cfc5a3d",
   "metadata": {},
   "outputs": [
    {
     "data": {
      "text/plain": [
       "28.0"
      ]
     },
     "execution_count": 53,
     "metadata": {},
     "output_type": "execute_result"
    }
   ],
   "source": [
    "# percentage of males that showed up\n",
    "# round to the nearest whole number\n",
    "x = males_and_show_up.value_counts()[0]\n",
    "y = males_and_show_up.value_counts()[1]\n",
    "z = males_and_show_up.value_counts()[0] + males_and_show_up.value_counts()[1]\n",
    "((y / z) * 100).round()"
   ]
  },
  {
   "cell_type": "markdown",
   "id": "64a23981",
   "metadata": {},
   "source": [
    "Approximately 28% of males showed up.\n",
    "\n",
    "We can thus deduct that approximately 80% of the people(both males and females) showed up for their appointment and 20% of them didn't  show up.\n",
    "\n",
    "let's get the proportion of the males and females that didn't show up or missed their appointment in their respective percentages."
   ]
  },
  {
   "cell_type": "markdown",
   "id": "bac87998",
   "metadata": {},
   "source": [
    "### percentage of males that did not show up"
   ]
  },
  {
   "cell_type": "code",
   "execution_count": 54,
   "id": "f09fd4e5",
   "metadata": {},
   "outputs": [
    {
     "data": {
      "text/plain": [
       "False    99582\n",
       "True      7405\n",
       "dtype: int64"
      ]
     },
     "execution_count": 54,
     "metadata": {},
     "output_type": "execute_result"
    }
   ],
   "source": [
    "# percentage of males that did not show up\n",
    "# and the value counts\n",
    "males_and_no_show  = (df['Gender'] == 'M') & (df['No_show'] == 'Yes')\n",
    "males_and_no_show.value_counts()\n",
    "\n"
   ]
  },
  {
   "cell_type": "code",
   "execution_count": 55,
   "id": "d89a341a",
   "metadata": {
    "scrolled": true
   },
   "outputs": [
    {
     "data": {
      "text/plain": [
       "7405"
      ]
     },
     "execution_count": 55,
     "metadata": {},
     "output_type": "execute_result"
    }
   ],
   "source": [
    "# get the second output of the above operation.i.e the 'True' part of the output\n",
    "y =males_and_no_show.value_counts()[1]\n",
    "y"
   ]
  },
  {
   "cell_type": "markdown",
   "id": "04d6fa85",
   "metadata": {},
   "source": [
    "7405 males did not show up for the appointment "
   ]
  },
  {
   "cell_type": "code",
   "execution_count": 56,
   "id": "9718e240",
   "metadata": {},
   "outputs": [
    {
     "data": {
      "text/plain": [
       "7.0"
      ]
     },
     "execution_count": 56,
     "metadata": {},
     "output_type": "execute_result"
    }
   ],
   "source": [
    "# percentage of males that did not show up\n",
    "\n",
    "x =males_and_no_show.value_counts()[0]\n",
    "y =males_and_no_show.value_counts()[1]\n",
    "z =males_and_no_show.value_counts()[0] + males_and_no_show.value_counts()[1]\n",
    "((y / z) * 100).round()"
   ]
  },
  {
   "cell_type": "markdown",
   "id": "d2471c79",
   "metadata": {},
   "source": [
    "7% of the males did not showed up"
   ]
  },
  {
   "cell_type": "markdown",
   "id": "bce40240",
   "metadata": {},
   "source": [
    "### percentage of females that did not show up"
   ]
  },
  {
   "cell_type": "code",
   "execution_count": 57,
   "id": "9a8e1c6c",
   "metadata": {},
   "outputs": [
    {
     "data": {
      "text/plain": [
       "False    92712\n",
       "True     14275\n",
       "dtype: int64"
      ]
     },
     "execution_count": 57,
     "metadata": {},
     "output_type": "execute_result"
    }
   ],
   "source": [
    "# females that did not show up\n",
    "\n",
    "females_and_no_show = (df['Gender'] == 'F') & (df['No_show'] == 'Yes')\n",
    "females_and_no_show.value_counts()\n"
   ]
  },
  {
   "cell_type": "code",
   "execution_count": 58,
   "id": "16136538",
   "metadata": {
    "scrolled": true
   },
   "outputs": [
    {
     "data": {
      "text/plain": [
       "14275"
      ]
     },
     "execution_count": 58,
     "metadata": {},
     "output_type": "execute_result"
    }
   ],
   "source": [
    "# get the second line of the output above\n",
    "females_and_no_show.value_counts()[1]"
   ]
  },
  {
   "cell_type": "markdown",
   "id": "43bc546b",
   "metadata": {},
   "source": [
    "14275 females did not show up"
   ]
  },
  {
   "cell_type": "code",
   "execution_count": 59,
   "id": "1f01e221",
   "metadata": {
    "scrolled": true
   },
   "outputs": [
    {
     "data": {
      "text/plain": [
       "13.0"
      ]
     },
     "execution_count": 59,
     "metadata": {},
     "output_type": "execute_result"
    }
   ],
   "source": [
    "# percentage of females that did not showed up\n",
    "\n",
    "females_and_no_show = (df['Gender'] == 'F') & (df['No_show'] == 'Yes')\n",
    "females_and_no_show.value_counts()\n",
    "\n",
    "x =females_and_no_show.value_counts()[0]\n",
    "y =females_and_no_show.value_counts()[1]\n",
    "z =females_and_no_show.value_counts()[0] + females_and_no_show.value_counts()[1]\n",
    "((y / z) * 100).round()"
   ]
  },
  {
   "cell_type": "markdown",
   "id": "10f3279e",
   "metadata": {},
   "source": [
    "13% of the females did not show up "
   ]
  },
  {
   "cell_type": "markdown",
   "id": "7c432ab7",
   "metadata": {},
   "source": [
    "### We can confidently conclude that among the people that didn't show up, approximately 7% of them are males and 13% of them are females\n",
    "\n",
    "### let's plot the percentages on a pie chart:\n",
    "* 52% females showed up\n",
    "* 28% males showed up\n",
    "* 13% females did not show up\n",
    "* 7% males did not show up"
   ]
  },
  {
   "cell_type": "markdown",
   "id": "99ac7ba5",
   "metadata": {},
   "source": [
    "### Percentage of people(male and female) that showed up against the percentage of the people(male and female) that did not show up on a pie chart "
   ]
  },
  {
   "cell_type": "code",
   "execution_count": 60,
   "id": "189b143d",
   "metadata": {},
   "outputs": [
    {
     "data": {
      "image/png": "[encoded data removed]",
      "text/plain": [
       "<Figure size 640x480 with 1 Axes>"
      ]
     },
     "metadata": {},
     "output_type": "display_data"
    }
   ],
   "source": [
    "# 80% of the total number showed up\n",
    "# 20% didn't show up\n",
    "# let's put these values in a numpy array but without the percentage signs \n",
    "a =np.array([80, 20])\n",
    "labels =['people that showed up','people that did not show up']\n",
    "plt.pie(a,labels = labels, autopct = '%1.0f%%');\n",
    "plt.title('Percentage of people(male and female) that showed up against those that didn\\'t show up ')\n",
    "plt.legend();"
   ]
  },
  {
   "cell_type": "markdown",
   "id": "2dc810d4",
   "metadata": {},
   "source": [
    "#### Clearly from the pie chart above, a large number of the people, both males and females showed up for their appointment as opposed to the very few that missed their appointment  "
   ]
  },
  {
   "cell_type": "markdown",
   "id": "c3708917",
   "metadata": {},
   "source": [
    "### Percentage of males and females that showed up against the percentage of the males and females that did not show up on a pie chart"
   ]
  },
  {
   "cell_type": "code",
   "execution_count": 61,
   "id": "45be3029",
   "metadata": {},
   "outputs": [
    {
     "data": {
      "image/png": "[encoded data removed]",
      "text/plain": [
       "<Figure size 640x480 with 1 Axes>"
      ]
     },
     "metadata": {},
     "output_type": "display_data"
    }
   ],
   "source": [
    "# 52% females showed up\n",
    "# 28% males showed up\n",
    "# 13% females did not show up\n",
    "# 7% males did not show up\n",
    "# let's put these values in a numpy array but without the percentage signs \n",
    "a =np.array([52, 28, 13, 7])\n",
    "labels =['females that showed up','males that showed up', 'females that did not show up','males that did not show up']\n",
    "plt.pie(a,labels = labels, autopct = '%1.0f%%');\n",
    "plt.title('Breakdown percentage of people(male and female) that showed up against those that didn\\'t show up ')\n",
    "plt.legend();"
   ]
  },
  {
   "cell_type": "markdown",
   "id": "4eb7ac84",
   "metadata": {},
   "source": [
    "#### from the pie charts  above : a large number of the people, both males and females showed up for their appointment which makes up 80% of the people. Among the 80%, 52% of them are females and 28% of them are males as opposed to the very few that missed their appointment making up 20% of the people which 13% of them are females and 7% being males."
   ]
  },
  {
   "cell_type": "markdown",
   "id": "8a02d3d9",
   "metadata": {},
   "source": [
    "### 2.how many females received sms and showed up as against those that did not receive any sms but still showed up ?"
   ]
  },
  {
   "cell_type": "code",
   "execution_count": 62,
   "id": "618d66b8",
   "metadata": {},
   "outputs": [],
   "source": [
    "# females that receive sms and showed up\n",
    "females_received_show_up = (df['Gender'] == 'F') & (df['SMS_received'] == 1)  & (df['No_show'] == 'No')"
   ]
  },
  {
   "cell_type": "code",
   "execution_count": 63,
   "id": "0244143b",
   "metadata": {},
   "outputs": [
    {
     "data": {
      "text/html": [
       "<div>\n",
       "<style scoped>\n",
       "    .dataframe tbody tr th:only-of-type {\n",
       "        vertical-align: middle;\n",
       "    }\n",
       "\n",
       "    .dataframe tbody tr th {\n",
       "        vertical-align: top;\n",
       "    }\n",
       "\n",
       "    .dataframe thead th {\n",
       "        text-align: right;\n",
       "    }\n",
       "</style>\n",
       "<table border=\"1\" class=\"dataframe\">\n",
       "  <thead>\n",
       "    <tr style=\"text-align: right;\">\n",
       "      <th></th>\n",
       "      <th>PatientId</th>\n",
       "      <th>AppointmentID</th>\n",
       "      <th>Gender</th>\n",
       "      <th>ScheduledDay</th>\n",
       "      <th>AppointmentDay</th>\n",
       "      <th>Age</th>\n",
       "      <th>Neighbourhood</th>\n",
       "      <th>Scholarship</th>\n",
       "      <th>Hypertension</th>\n",
       "      <th>Diabetes</th>\n",
       "      <th>Alcoholism</th>\n",
       "      <th>Handicap</th>\n",
       "      <th>SMS_received</th>\n",
       "      <th>No_show</th>\n",
       "    </tr>\n",
       "  </thead>\n",
       "  <tbody>\n",
       "    <tr>\n",
       "      <th>15</th>\n",
       "      <td>9.994839e+10</td>\n",
       "      <td>5620206</td>\n",
       "      <td>F</td>\n",
       "      <td>2016-04-26 08:47:27+00:00</td>\n",
       "      <td>2016-04-29 00:00:00+00:00</td>\n",
       "      <td>15</td>\n",
       "      <td>NOVA PALESTINA</td>\n",
       "      <td>0</td>\n",
       "      <td>0</td>\n",
       "      <td>0</td>\n",
       "      <td>0</td>\n",
       "      <td>0</td>\n",
       "      <td>1</td>\n",
       "      <td>No</td>\n",
       "    </tr>\n",
       "    <tr>\n",
       "      <th>18</th>\n",
       "      <td>1.713538e+13</td>\n",
       "      <td>5621836</td>\n",
       "      <td>F</td>\n",
       "      <td>2016-04-26 10:54:18+00:00</td>\n",
       "      <td>2016-04-29 00:00:00+00:00</td>\n",
       "      <td>30</td>\n",
       "      <td>NOVA PALESTINA</td>\n",
       "      <td>1</td>\n",
       "      <td>0</td>\n",
       "      <td>0</td>\n",
       "      <td>0</td>\n",
       "      <td>0</td>\n",
       "      <td>1</td>\n",
       "      <td>No</td>\n",
       "    </tr>\n",
       "    <tr>\n",
       "      <th>33</th>\n",
       "      <td>7.653517e+12</td>\n",
       "      <td>5616921</td>\n",
       "      <td>F</td>\n",
       "      <td>2016-04-25 15:01:04+00:00</td>\n",
       "      <td>2016-04-29 00:00:00+00:00</td>\n",
       "      <td>38</td>\n",
       "      <td>SÃO CRISTÓVÃO</td>\n",
       "      <td>1</td>\n",
       "      <td>0</td>\n",
       "      <td>0</td>\n",
       "      <td>0</td>\n",
       "      <td>0</td>\n",
       "      <td>1</td>\n",
       "      <td>No</td>\n",
       "    </tr>\n",
       "    <tr>\n",
       "      <th>62</th>\n",
       "      <td>3.647762e+13</td>\n",
       "      <td>5614045</td>\n",
       "      <td>F</td>\n",
       "      <td>2016-04-25 10:01:13+00:00</td>\n",
       "      <td>2016-04-29 00:00:00+00:00</td>\n",
       "      <td>3</td>\n",
       "      <td>CONQUISTA</td>\n",
       "      <td>1</td>\n",
       "      <td>0</td>\n",
       "      <td>0</td>\n",
       "      <td>0</td>\n",
       "      <td>0</td>\n",
       "      <td>1</td>\n",
       "      <td>No</td>\n",
       "    </tr>\n",
       "    <tr>\n",
       "      <th>68</th>\n",
       "      <td>5.434176e+12</td>\n",
       "      <td>5552915</td>\n",
       "      <td>F</td>\n",
       "      <td>2016-04-06 18:00:29+00:00</td>\n",
       "      <td>2016-04-29 00:00:00+00:00</td>\n",
       "      <td>69</td>\n",
       "      <td>JARDIM DA PENHA</td>\n",
       "      <td>0</td>\n",
       "      <td>1</td>\n",
       "      <td>0</td>\n",
       "      <td>0</td>\n",
       "      <td>0</td>\n",
       "      <td>1</td>\n",
       "      <td>No</td>\n",
       "    </tr>\n",
       "  </tbody>\n",
       "</table>\n",
       "</div>"
      ],
      "text/plain": [
       "       PatientId  AppointmentID Gender              ScheduledDay  \\\n",
       "15  9.994839e+10        5620206      F 2016-04-26 08:47:27+00:00   \n",
       "18  1.713538e+13        5621836      F 2016-04-26 10:54:18+00:00   \n",
       "33  7.653517e+12        5616921      F 2016-04-25 15:01:04+00:00   \n",
       "62  3.647762e+13        5614045      F 2016-04-25 10:01:13+00:00   \n",
       "68  5.434176e+12        5552915      F 2016-04-06 18:00:29+00:00   \n",
       "\n",
       "              AppointmentDay  Age    Neighbourhood  Scholarship  Hypertension  \\\n",
       "15 2016-04-29 00:00:00+00:00   15   NOVA PALESTINA            0             0   \n",
       "18 2016-04-29 00:00:00+00:00   30   NOVA PALESTINA            1             0   \n",
       "33 2016-04-29 00:00:00+00:00   38    SÃO CRISTÓVÃO            1             0   \n",
       "62 2016-04-29 00:00:00+00:00    3        CONQUISTA            1             0   \n",
       "68 2016-04-29 00:00:00+00:00   69  JARDIM DA PENHA            0             1   \n",
       "\n",
       "    Diabetes  Alcoholism  Handicap  SMS_received No_show  \n",
       "15         0           0         0             1      No  \n",
       "18         0           0         0             1      No  \n",
       "33         0           0         0             1      No  \n",
       "62         0           0         0             1      No  \n",
       "68         0           0         0             1      No  "
      ]
     },
     "execution_count": 63,
     "metadata": {},
     "output_type": "execute_result"
    }
   ],
   "source": [
    "# dataframe  of the first five females that receive sms and showed up\n",
    "df.loc[females_received_show_up].head()"
   ]
  },
  {
   "cell_type": "code",
   "execution_count": 64,
   "id": "8f0e2a56",
   "metadata": {},
   "outputs": [
    {
     "data": {
      "text/plain": [
       "False    89840\n",
       "True     17147\n",
       "dtype: int64"
      ]
     },
     "execution_count": 64,
     "metadata": {},
     "output_type": "execute_result"
    }
   ],
   "source": [
    "# value counts\n",
    "females_received_show_up.value_counts()"
   ]
  },
  {
   "cell_type": "code",
   "execution_count": 65,
   "id": "5d776d69",
   "metadata": {},
   "outputs": [
    {
     "data": {
      "text/plain": [
       "17147"
      ]
     },
     "execution_count": 65,
     "metadata": {},
     "output_type": "execute_result"
    }
   ],
   "source": [
    "# get the second line of the output above and assign it to f_r\n",
    "f_r = females_received_show_up.value_counts()[1]\n",
    "f_r"
   ]
  },
  {
   "cell_type": "markdown",
   "id": "dceb0567",
   "metadata": {},
   "source": [
    "17147 females received sms and showed up"
   ]
  },
  {
   "cell_type": "markdown",
   "id": "8c356966",
   "metadata": {},
   "source": [
    "### how many females did not receive sms but showed up?"
   ]
  },
  {
   "cell_type": "code",
   "execution_count": 66,
   "id": "7ebf6b4a",
   "metadata": {},
   "outputs": [],
   "source": [
    "# females that did not receive sms but showed up\n",
    "females_received_no_show = (df['Gender'] == 'F') & (df['SMS_received'] == 0)  & (df['No_show'] == 'No')"
   ]
  },
  {
   "cell_type": "code",
   "execution_count": 67,
   "id": "c090de73",
   "metadata": {},
   "outputs": [
    {
     "data": {
      "text/html": [
       "<div>\n",
       "<style scoped>\n",
       "    .dataframe tbody tr th:only-of-type {\n",
       "        vertical-align: middle;\n",
       "    }\n",
       "\n",
       "    .dataframe tbody tr th {\n",
       "        vertical-align: top;\n",
       "    }\n",
       "\n",
       "    .dataframe thead th {\n",
       "        text-align: right;\n",
       "    }\n",
       "</style>\n",
       "<table border=\"1\" class=\"dataframe\">\n",
       "  <thead>\n",
       "    <tr style=\"text-align: right;\">\n",
       "      <th></th>\n",
       "      <th>PatientId</th>\n",
       "      <th>AppointmentID</th>\n",
       "      <th>Gender</th>\n",
       "      <th>ScheduledDay</th>\n",
       "      <th>AppointmentDay</th>\n",
       "      <th>Age</th>\n",
       "      <th>Neighbourhood</th>\n",
       "      <th>Scholarship</th>\n",
       "      <th>Hypertension</th>\n",
       "      <th>Diabetes</th>\n",
       "      <th>Alcoholism</th>\n",
       "      <th>Handicap</th>\n",
       "      <th>SMS_received</th>\n",
       "      <th>No_show</th>\n",
       "    </tr>\n",
       "  </thead>\n",
       "  <tbody>\n",
       "    <tr>\n",
       "      <th>0</th>\n",
       "      <td>2.987250e+13</td>\n",
       "      <td>5642903</td>\n",
       "      <td>F</td>\n",
       "      <td>2016-04-29 18:38:08+00:00</td>\n",
       "      <td>2016-04-29 00:00:00+00:00</td>\n",
       "      <td>62</td>\n",
       "      <td>JARDIM DA PENHA</td>\n",
       "      <td>0</td>\n",
       "      <td>1</td>\n",
       "      <td>0</td>\n",
       "      <td>0</td>\n",
       "      <td>0</td>\n",
       "      <td>0</td>\n",
       "      <td>No</td>\n",
       "    </tr>\n",
       "    <tr>\n",
       "      <th>2</th>\n",
       "      <td>4.262962e+12</td>\n",
       "      <td>5642549</td>\n",
       "      <td>F</td>\n",
       "      <td>2016-04-29 16:19:04+00:00</td>\n",
       "      <td>2016-04-29 00:00:00+00:00</td>\n",
       "      <td>62</td>\n",
       "      <td>MATA DA PRAIA</td>\n",
       "      <td>0</td>\n",
       "      <td>0</td>\n",
       "      <td>0</td>\n",
       "      <td>0</td>\n",
       "      <td>0</td>\n",
       "      <td>0</td>\n",
       "      <td>No</td>\n",
       "    </tr>\n",
       "    <tr>\n",
       "      <th>3</th>\n",
       "      <td>8.679512e+11</td>\n",
       "      <td>5642828</td>\n",
       "      <td>F</td>\n",
       "      <td>2016-04-29 17:29:31+00:00</td>\n",
       "      <td>2016-04-29 00:00:00+00:00</td>\n",
       "      <td>8</td>\n",
       "      <td>PONTAL DE CAMBURI</td>\n",
       "      <td>0</td>\n",
       "      <td>0</td>\n",
       "      <td>0</td>\n",
       "      <td>0</td>\n",
       "      <td>0</td>\n",
       "      <td>0</td>\n",
       "      <td>No</td>\n",
       "    </tr>\n",
       "    <tr>\n",
       "      <th>4</th>\n",
       "      <td>8.841186e+12</td>\n",
       "      <td>5642494</td>\n",
       "      <td>F</td>\n",
       "      <td>2016-04-29 16:07:23+00:00</td>\n",
       "      <td>2016-04-29 00:00:00+00:00</td>\n",
       "      <td>56</td>\n",
       "      <td>JARDIM DA PENHA</td>\n",
       "      <td>0</td>\n",
       "      <td>1</td>\n",
       "      <td>1</td>\n",
       "      <td>0</td>\n",
       "      <td>0</td>\n",
       "      <td>0</td>\n",
       "      <td>No</td>\n",
       "    </tr>\n",
       "    <tr>\n",
       "      <th>5</th>\n",
       "      <td>9.598513e+13</td>\n",
       "      <td>5626772</td>\n",
       "      <td>F</td>\n",
       "      <td>2016-04-27 08:36:51+00:00</td>\n",
       "      <td>2016-04-29 00:00:00+00:00</td>\n",
       "      <td>76</td>\n",
       "      <td>REPÚBLICA</td>\n",
       "      <td>0</td>\n",
       "      <td>1</td>\n",
       "      <td>0</td>\n",
       "      <td>0</td>\n",
       "      <td>0</td>\n",
       "      <td>0</td>\n",
       "      <td>No</td>\n",
       "    </tr>\n",
       "  </tbody>\n",
       "</table>\n",
       "</div>"
      ],
      "text/plain": [
       "      PatientId  AppointmentID Gender              ScheduledDay  \\\n",
       "0  2.987250e+13        5642903      F 2016-04-29 18:38:08+00:00   \n",
       "2  4.262962e+12        5642549      F 2016-04-29 16:19:04+00:00   \n",
       "3  8.679512e+11        5642828      F 2016-04-29 17:29:31+00:00   \n",
       "4  8.841186e+12        5642494      F 2016-04-29 16:07:23+00:00   \n",
       "5  9.598513e+13        5626772      F 2016-04-27 08:36:51+00:00   \n",
       "\n",
       "             AppointmentDay  Age      Neighbourhood  Scholarship  \\\n",
       "0 2016-04-29 00:00:00+00:00   62    JARDIM DA PENHA            0   \n",
       "2 2016-04-29 00:00:00+00:00   62      MATA DA PRAIA            0   \n",
       "3 2016-04-29 00:00:00+00:00    8  PONTAL DE CAMBURI            0   \n",
       "4 2016-04-29 00:00:00+00:00   56    JARDIM DA PENHA            0   \n",
       "5 2016-04-29 00:00:00+00:00   76          REPÚBLICA            0   \n",
       "\n",
       "   Hypertension  Diabetes  Alcoholism  Handicap  SMS_received No_show  \n",
       "0             1         0           0         0             0      No  \n",
       "2             0         0           0         0             0      No  \n",
       "3             0         0           0         0             0      No  \n",
       "4             1         1           0         0             0      No  \n",
       "5             1         0           0         0             0      No  "
      ]
     },
     "execution_count": 67,
     "metadata": {},
     "output_type": "execute_result"
    }
   ],
   "source": [
    "# dataframe  of the first five females that did not receive sms but showed up\n",
    "df.loc[females_received_no_show].head()"
   ]
  },
  {
   "cell_type": "code",
   "execution_count": null,
   "id": "e7721cff",
   "metadata": {},
   "outputs": [],
   "source": [
    " "
   ]
  },
  {
   "cell_type": "code",
   "execution_count": 68,
   "id": "e746baa5",
   "metadata": {},
   "outputs": [
    {
     "data": {
      "text/plain": [
       "False    68291\n",
       "True     38696\n",
       "dtype: int64"
      ]
     },
     "execution_count": 68,
     "metadata": {},
     "output_type": "execute_result"
    }
   ],
   "source": [
    "# value counts of female who received sms but did not show up for their appointment \n",
    "females_received_no_show.value_counts()"
   ]
  },
  {
   "cell_type": "code",
   "execution_count": 69,
   "id": "cc05649f",
   "metadata": {},
   "outputs": [
    {
     "data": {
      "text/plain": [
       "38696"
      ]
     },
     "execution_count": 69,
     "metadata": {},
     "output_type": "execute_result"
    }
   ],
   "source": [
    "# get the second line of the output above and assign it to f_nr\n",
    "f_nr = females_received_no_show.value_counts()[1]\n",
    "f_nr"
   ]
  },
  {
   "cell_type": "markdown",
   "id": "6e0839ae",
   "metadata": {},
   "source": [
    "38696 females did not receive sms but still showed up"
   ]
  },
  {
   "cell_type": "markdown",
   "id": "641f4723",
   "metadata": {},
   "source": [
    "### plot the values of the females that received sms and showed up against those that did not receive sms but still showed up on a bar chart"
   ]
  },
  {
   "cell_type": "code",
   "execution_count": 70,
   "id": "1a277e9a",
   "metadata": {},
   "outputs": [
    {
     "data": {
      "image/png": "[encoded data removed]",
      "text/plain": [
       "<Figure size 640x480 with 1 Axes>"
      ]
     },
     "metadata": {},
     "output_type": "display_data"
    }
   ],
   "source": [
    "#values of the females that received sms and showed up \n",
    "#against those that did not receive sms but still showed up on a bar chart\n",
    "\n",
    "# funtion to receive a list of values\n",
    "# which will be used in a numpy array for plotting\n",
    "def fun( arr = []):\n",
    "    return (arr)\n",
    "\n",
    "# labels = np.array(['received sms and show', 'didn\\'t receive sms but show'])\n",
    "labels = ['received sms and show', 'didn\\'t receive sms but show']\n",
    "freq = np.array(fun([f_r,f_nr]))\n",
    "# freq = np.array([f_r,f_nr])\n",
    "color = ['red', 'blue']\n",
    "\n",
    "\n",
    "plt.bar( labels,freq, color = color , label = labels)\n",
    "plt.xlabel('females');\n",
    "plt.ylabel('frequency');\n",
    "plt.title('females that received sms and showed up against those that did not receive any sms but still showed up');\n",
    "plt.legend();"
   ]
  },
  {
   "cell_type": "markdown",
   "id": "2310f67b",
   "metadata": {},
   "source": [
    "#### from the plot above, we can clearly see that more females showed up for their appointment despite not receiving any sms and that is nearly twice the size of the females that received the sms and showed up"
   ]
  },
  {
   "cell_type": "markdown",
   "id": "b1c848ad",
   "metadata": {},
   "source": [
    "### 3.\n",
    "* what percentage of females are diabetic ?\n",
    "* are there children who are diabetic ?\n",
    "* how many diabetic and alcohollic showed up for the appointment ?\n"
   ]
  },
  {
   "cell_type": "markdown",
   "id": "a1275a5c",
   "metadata": {},
   "source": [
    "* ### percentage of females who are diabetic"
   ]
  },
  {
   "cell_type": "markdown",
   "id": "c532cfe1",
   "metadata": {},
   "source": [
    "#### females who are diabetic "
   ]
  },
  {
   "cell_type": "code",
   "execution_count": 71,
   "id": "627838de",
   "metadata": {
    "scrolled": true
   },
   "outputs": [
    {
     "data": {
      "text/plain": [
       "False    101381\n",
       "True       5606\n",
       "dtype: int64"
      ]
     },
     "execution_count": 71,
     "metadata": {},
     "output_type": "execute_result"
    }
   ],
   "source": [
    "# females who are diabetic\n",
    "# get the value count of diabetic females\n",
    "females_and_diabetic = (df['Gender'] == 'F') & (df['Diabetes'] == 1)\n",
    "females_and_diabetic.value_counts()"
   ]
  },
  {
   "cell_type": "code",
   "execution_count": 72,
   "id": "58cd4eff",
   "metadata": {},
   "outputs": [
    {
     "data": {
      "text/plain": [
       "5606"
      ]
     },
     "execution_count": 72,
     "metadata": {},
     "output_type": "execute_result"
    }
   ],
   "source": [
    "# get the True part of the output above\n",
    "# to get the number of diabetic females \n",
    "f_and_d = females_and_diabetic.value_counts()[1]\n",
    "f_and_d"
   ]
  },
  {
   "cell_type": "markdown",
   "id": "b5b09eee",
   "metadata": {},
   "source": [
    "5606 females are diabetic "
   ]
  },
  {
   "cell_type": "markdown",
   "id": "3e18ffdf",
   "metadata": {},
   "source": [
    "#### non-diabetic females"
   ]
  },
  {
   "cell_type": "code",
   "execution_count": 73,
   "id": "ca056e77",
   "metadata": {},
   "outputs": [
    {
     "data": {
      "text/plain": [
       "True     64512\n",
       "False    42475\n",
       "dtype: int64"
      ]
     },
     "execution_count": 73,
     "metadata": {},
     "output_type": "execute_result"
    }
   ],
   "source": [
    "# non-diabetic females\n",
    "# get the value count of  non-diabetic females\n",
    "females_and_not_diabetic = (df['Gender'] == 'F') & (df['Diabetes'] == 0)\n",
    "females_and_not_diabetic.value_counts()"
   ]
  },
  {
   "cell_type": "code",
   "execution_count": 74,
   "id": "67b1a883",
   "metadata": {
    "scrolled": true
   },
   "outputs": [
    {
     "data": {
      "text/plain": [
       "64512"
      ]
     },
     "execution_count": 74,
     "metadata": {},
     "output_type": "execute_result"
    }
   ],
   "source": [
    "# get the True part of the output above\n",
    "# to get the number of diabetic females\n",
    "f_not_d =females_and_not_diabetic.value_counts()[0]\n",
    "f_not_d"
   ]
  },
  {
   "cell_type": "markdown",
   "id": "cdd9d75c",
   "metadata": {},
   "source": [
    "64512 females are not diabetic"
   ]
  },
  {
   "cell_type": "markdown",
   "id": "f4db9d1f",
   "metadata": {},
   "source": [
    "#### the total number of females "
   ]
  },
  {
   "cell_type": "code",
   "execution_count": 75,
   "id": "72cacd03",
   "metadata": {},
   "outputs": [
    {
     "data": {
      "text/plain": [
       "True     70118\n",
       "False    36869\n",
       "Name: Gender, dtype: int64"
      ]
     },
     "execution_count": 75,
     "metadata": {},
     "output_type": "execute_result"
    }
   ],
   "source": [
    "# get the value count of the total number of females \n",
    "# and assign it to females_\n",
    "females_  = (df['Gender'] == 'F').value_counts()\n",
    "females_ "
   ]
  },
  {
   "cell_type": "code",
   "execution_count": 76,
   "id": "f05a1c4e",
   "metadata": {},
   "outputs": [
    {
     "data": {
      "text/plain": [
       "70118"
      ]
     },
     "execution_count": 76,
     "metadata": {},
     "output_type": "execute_result"
    }
   ],
   "source": [
    "# get the True part of the output above\n",
    "# to get the total number of females \n",
    "females_[0] "
   ]
  },
  {
   "cell_type": "markdown",
   "id": "f9f0de0c",
   "metadata": {},
   "source": [
    "70118 are females"
   ]
  },
  {
   "cell_type": "markdown",
   "id": "c5cbf6ff",
   "metadata": {},
   "source": [
    "#### percentage of diabetic females"
   ]
  },
  {
   "cell_type": "code",
   "execution_count": 77,
   "id": "f3ce89eb",
   "metadata": {
    "scrolled": true
   },
   "outputs": [
    {
     "data": {
      "text/plain": [
       "8.0"
      ]
     },
     "execution_count": 77,
     "metadata": {},
     "output_type": "execute_result"
    }
   ],
   "source": [
    "# percentage of diabetic females\n",
    "# round to the nearest whole number\n",
    "((f_and_d / females_[0]) * 100).round()"
   ]
  },
  {
   "cell_type": "markdown",
   "id": "3a2bc518",
   "metadata": {},
   "source": [
    "of 70118 females, 8% of them are diabetic "
   ]
  },
  {
   "cell_type": "markdown",
   "id": "e445c85b",
   "metadata": {},
   "source": [
    "#### percentage of non-diabetic females"
   ]
  },
  {
   "cell_type": "code",
   "execution_count": 78,
   "id": "bd5bd193",
   "metadata": {},
   "outputs": [
    {
     "data": {
      "text/plain": [
       "92.0"
      ]
     },
     "execution_count": 78,
     "metadata": {},
     "output_type": "execute_result"
    }
   ],
   "source": [
    "# percentage of non-diabetic females\n",
    "# round to the nearest whole number\n",
    "((f_not_d / females_[0]) * 100).round()"
   ]
  },
  {
   "cell_type": "markdown",
   "id": "21ebb821",
   "metadata": {},
   "source": [
    "92% of the females are not diabetic.i.e the majority "
   ]
  },
  {
   "cell_type": "markdown",
   "id": "6a880b2e",
   "metadata": {},
   "source": [
    "* ### are there female children who are diabetic? how many?"
   ]
  },
  {
   "cell_type": "markdown",
   "id": "497a6086",
   "metadata": {},
   "source": [
    "#### female children who are diabetic"
   ]
  },
  {
   "cell_type": "code",
   "execution_count": 79,
   "id": "4b1db00c",
   "metadata": {},
   "outputs": [],
   "source": [
    "# female children who are diabetic\n",
    "child_females_and_diabetic = (df['Gender'] == 'F') & (df['Diabetes'] == 1) & (df['Age'] < 18)\n"
   ]
  },
  {
   "cell_type": "code",
   "execution_count": 80,
   "id": "e3a66b74",
   "metadata": {},
   "outputs": [
    {
     "data": {
      "text/plain": [
       "False    106949\n",
       "True         38\n",
       "dtype: int64"
      ]
     },
     "execution_count": 80,
     "metadata": {},
     "output_type": "execute_result"
    }
   ],
   "source": [
    "# count of female children who are diabetic\n",
    "child_females_and_diabetic.value_counts()"
   ]
  },
  {
   "cell_type": "code",
   "execution_count": 81,
   "id": "a2db8583",
   "metadata": {},
   "outputs": [
    {
     "data": {
      "text/plain": [
       "38"
      ]
     },
     "execution_count": 81,
     "metadata": {},
     "output_type": "execute_result"
    }
   ],
   "source": [
    "# get the True part of the output above\n",
    "# to get the number of diabetic female children\n",
    "# and assign it to f_d_c\n",
    "f_d_c = child_females_and_diabetic.value_counts()[1]\n",
    "f_d_c"
   ]
  },
  {
   "cell_type": "markdown",
   "id": "67333895",
   "metadata": {},
   "source": [
    "from the above, 38 female children are diabetic "
   ]
  },
  {
   "cell_type": "markdown",
   "id": "63535a5b",
   "metadata": {},
   "source": [
    "#### female adults who are diabetic"
   ]
  },
  {
   "cell_type": "code",
   "execution_count": 82,
   "id": "41e07213",
   "metadata": {},
   "outputs": [],
   "source": [
    "# female adults who are diabetic\n",
    "adult_females_and_diabetic = (df['Gender'] == 'F') & (df['Diabetes'] == 1) & (df['Age'] >= 18)"
   ]
  },
  {
   "cell_type": "code",
   "execution_count": 83,
   "id": "9d50e2a6",
   "metadata": {},
   "outputs": [
    {
     "data": {
      "text/plain": [
       "False    101419\n",
       "True       5568\n",
       "dtype: int64"
      ]
     },
     "execution_count": 83,
     "metadata": {},
     "output_type": "execute_result"
    }
   ],
   "source": [
    "# count of female adults who are diabetic\n",
    "adult_females_and_diabetic.value_counts()"
   ]
  },
  {
   "cell_type": "code",
   "execution_count": 84,
   "id": "317dfc9c",
   "metadata": {
    "scrolled": true
   },
   "outputs": [
    {
     "data": {
      "text/plain": [
       "5568"
      ]
     },
     "execution_count": 84,
     "metadata": {},
     "output_type": "execute_result"
    }
   ],
   "source": [
    "# get the True part of the output above\n",
    "# to get the number of diabetic adults\n",
    "# # and assign it to f_d_a\n",
    "f_d_a =adult_females_and_diabetic.value_counts()[1]\n",
    "f_d_a"
   ]
  },
  {
   "cell_type": "markdown",
   "id": "41a2a620",
   "metadata": {},
   "source": [
    "5568 female adults are diabetic"
   ]
  },
  {
   "cell_type": "markdown",
   "id": "ea65d614",
   "metadata": {},
   "source": [
    "#### female adults who are not diabetic"
   ]
  },
  {
   "cell_type": "code",
   "execution_count": 85,
   "id": "5321b1a0",
   "metadata": {},
   "outputs": [],
   "source": [
    "# female adults who are not diabetic\n",
    "adult_females_and_not_diabetic = (df['Gender'] == 'F') & (df['Diabetes'] == 0) & (df['Age'] >= 18)"
   ]
  },
  {
   "cell_type": "code",
   "execution_count": 86,
   "id": "c5c8affb",
   "metadata": {},
   "outputs": [
    {
     "data": {
      "text/plain": [
       "False    54614\n",
       "True     52373\n",
       "dtype: int64"
      ]
     },
     "execution_count": 86,
     "metadata": {},
     "output_type": "execute_result"
    }
   ],
   "source": [
    "# count of female adults who are not diabetic\n",
    "adult_females_and_not_diabetic.value_counts()"
   ]
  },
  {
   "cell_type": "code",
   "execution_count": 87,
   "id": "d8c6e203",
   "metadata": {},
   "outputs": [
    {
     "data": {
      "text/plain": [
       "52373"
      ]
     },
     "execution_count": 87,
     "metadata": {},
     "output_type": "execute_result"
    }
   ],
   "source": [
    "# get the True part of the output above\n",
    "# to get the number of non-diabetic adults(female)\n",
    "# and assign it to a_f_n_d\n",
    "a_f_n_d = adult_females_and_not_diabetic.value_counts()[1]\n",
    "a_f_n_d"
   ]
  },
  {
   "cell_type": "markdown",
   "id": "a65b2369",
   "metadata": {},
   "source": [
    "52373 are non-diabetic adults (female)"
   ]
  },
  {
   "cell_type": "markdown",
   "id": "c75cc8ba",
   "metadata": {},
   "source": [
    "#### children who are not diabetic"
   ]
  },
  {
   "cell_type": "code",
   "execution_count": 88,
   "id": "0eb42bd1",
   "metadata": {},
   "outputs": [],
   "source": [
    "# female children who are not diabetic\n",
    "child_females_and_not_diabetic = (df['Gender'] == 'F') & (df['Diabetes'] == 0) & (df['Age'] < 18)"
   ]
  },
  {
   "cell_type": "code",
   "execution_count": 89,
   "id": "1df22ac1",
   "metadata": {},
   "outputs": [
    {
     "data": {
      "text/plain": [
       "False    94848\n",
       "True     12139\n",
       "dtype: int64"
      ]
     },
     "execution_count": 89,
     "metadata": {},
     "output_type": "execute_result"
    }
   ],
   "source": [
    "# count of female children who are not diabetic\n",
    "child_females_and_not_diabetic.value_counts()"
   ]
  },
  {
   "cell_type": "code",
   "execution_count": 90,
   "id": "405bab44",
   "metadata": {},
   "outputs": [
    {
     "data": {
      "text/plain": [
       "12139"
      ]
     },
     "execution_count": 90,
     "metadata": {},
     "output_type": "execute_result"
    }
   ],
   "source": [
    "# get the True part of the output above\n",
    "# to get the number of diabetic adults\n",
    "# and assign it to c_f_n_d\n",
    "c_f_n_d = child_females_and_not_diabetic.value_counts()[1]\n",
    "c_f_n_d"
   ]
  },
  {
   "cell_type": "markdown",
   "id": "28646036",
   "metadata": {},
   "source": [
    "12139 female children are not diabetic"
   ]
  },
  {
   "cell_type": "markdown",
   "id": "c41dee30",
   "metadata": {},
   "source": [
    "### plot of the respective values of female diabetics  in their respective categories (diabetic females, non-diabetic females , diabetic female children, diabetic female adults, non-diabetic female children,non-diabetic female adults)"
   ]
  },
  {
   "cell_type": "code",
   "execution_count": 91,
   "id": "f5ea941d",
   "metadata": {},
   "outputs": [
    {
     "data": {
      "image/png": "[encoded data removed]",
      "text/plain": [
       "<Figure size 640x480 with 1 Axes>"
      ]
     },
     "metadata": {},
     "output_type": "display_data"
    }
   ],
   "source": [
    "# plot of the respective values of female diabetics in their respective categories\n",
    "#(diabetic females, non-diabetic females , diabetic female children, diabetic female adults,\n",
    "#non-diabetic female children,non-diabetic female adults)\n",
    "\n",
    "# funtion to receive a list of values\n",
    "# which will be used in a numpy array for plotting\n",
    "def fun( arr = []):\n",
    "    return (arr)\n",
    "\n",
    "labels = np.array(['total females', 'diabetic females','non-diabetic females', 'diabetic female children',\n",
    "                  'diabetic female adults', 'non-diabetic female children','non-diabetic female adults'])\n",
    "freq = np.array(fun([females_[0], f_and_d , f_not_d , f_d_c , f_d_a, c_f_n_d, a_f_n_d]))\n",
    "color = ['red', 'blue', 'green', 'brown', 'yellow', 'pink']\n",
    "\n",
    "plt.barh(labels, freq, color = color,label = labels);\n",
    "plt.xlabel('values')\n",
    "plt.ylabel('females')\n",
    "plt.title('females that are diabetic against non-diabetic females');\n",
    "plt.legend();"
   ]
  },
  {
   "cell_type": "markdown",
   "id": "ce058c1a",
   "metadata": {},
   "source": [
    "#### Out of about 70 thousand females, a large number of them are non-diabetic, which a large proportion of them are adults and very few being children. There more non-diabetic females as compared to the diabetic females.\n",
    "\n",
    "NB: from the bar chart above, we can see that the 'diabetic female children' bar isn't showing, this is because it is too small."
   ]
  },
  {
   "cell_type": "code",
   "execution_count": null,
   "id": "8175721d",
   "metadata": {},
   "outputs": [],
   "source": []
  },
  {
   "cell_type": "markdown",
   "id": "aeacf038",
   "metadata": {},
   "source": [
    "* ### how many diabetics and alcoholics showed up for the appointment and how many did not? \n"
   ]
  },
  {
   "cell_type": "markdown",
   "id": "b65a48eb",
   "metadata": {},
   "source": [
    "#### diabetics and alcoholics patients that showed up"
   ]
  },
  {
   "cell_type": "code",
   "execution_count": 92,
   "id": "09188364",
   "metadata": {},
   "outputs": [],
   "source": [
    "# diabetics and alcoholics patients that showed up\n",
    "\n",
    "diabetic_and_alcoholic_show = (df['Diabetes'] == 1) & (df['Alcoholism'] == 1 ) & (df['No_show'] == 'No')\n",
    "# diabetic_and_alcoholic.value_counts()"
   ]
  },
  {
   "cell_type": "code",
   "execution_count": 93,
   "id": "54df2330",
   "metadata": {},
   "outputs": [
    {
     "data": {
      "text/plain": [
       "False    106714\n",
       "True        273\n",
       "dtype: int64"
      ]
     },
     "execution_count": 93,
     "metadata": {},
     "output_type": "execute_result"
    }
   ],
   "source": [
    "# value counts of  diabetics and alcoholics patients that showed up\n",
    "diabetic_and_alcoholic_show.value_counts()"
   ]
  },
  {
   "cell_type": "code",
   "execution_count": 94,
   "id": "398a0af0",
   "metadata": {},
   "outputs": [
    {
     "data": {
      "text/plain": [
       "273"
      ]
     },
     "execution_count": 94,
     "metadata": {},
     "output_type": "execute_result"
    }
   ],
   "source": [
    "# get the second line of the output above\n",
    "# and assign to dia_and_alco_show\n",
    "dia_and_alco_show = diabetic_and_alcoholic_show.value_counts()[1]\n",
    "dia_and_alco_show"
   ]
  },
  {
   "cell_type": "markdown",
   "id": "2af493d6",
   "metadata": {},
   "source": [
    "273 diabetic and alcoholic patients showed up"
   ]
  },
  {
   "cell_type": "markdown",
   "id": "c12233bc",
   "metadata": {},
   "source": [
    "#### diabetic and alcoholic patients that did not show up"
   ]
  },
  {
   "cell_type": "code",
   "execution_count": 95,
   "id": "bb76cbdb",
   "metadata": {},
   "outputs": [
    {
     "data": {
      "text/plain": [
       "False    106928\n",
       "True         59\n",
       "dtype: int64"
      ]
     },
     "execution_count": 95,
     "metadata": {},
     "output_type": "execute_result"
    }
   ],
   "source": [
    "# diabetic and alcoholic patients that did not show up\n",
    "\n",
    "diabetic_and_alcoholic_no_show = (df['Diabetes'] == 1) & (df['Alcoholism'] == 1 ) & (df['No_show'] == 'Yes')\n",
    "diabetic_and_alcoholic_no_show.value_counts()"
   ]
  },
  {
   "cell_type": "code",
   "execution_count": 96,
   "id": "1d169c03",
   "metadata": {},
   "outputs": [
    {
     "data": {
      "text/plain": [
       "59"
      ]
     },
     "execution_count": 96,
     "metadata": {},
     "output_type": "execute_result"
    }
   ],
   "source": [
    "# value diabetic and alcoholic patients that did not show up\n",
    "# and assign to dia_and_alco_no_show\n",
    "dia_and_alco_no_show = diabetic_and_alcoholic_no_show.value_counts()[1]\n",
    "dia_and_alco_no_show"
   ]
  },
  {
   "cell_type": "markdown",
   "id": "e7fb4f03",
   "metadata": {},
   "source": [
    "59 diabetic and alcoholic patients did not show up"
   ]
  },
  {
   "cell_type": "markdown",
   "id": "4c40ede8",
   "metadata": {},
   "source": [
    "#### total number of diabetics and alcoholics"
   ]
  },
  {
   "cell_type": "code",
   "execution_count": 97,
   "id": "9a80cb7d",
   "metadata": {},
   "outputs": [
    {
     "data": {
      "text/plain": [
       "False    106655\n",
       "True        332\n",
       "dtype: int64"
      ]
     },
     "execution_count": 97,
     "metadata": {},
     "output_type": "execute_result"
    }
   ],
   "source": [
    "# total number of diabetics and alcoholics\n",
    "# and the value counts\n",
    "diabetic_and_alcoholic = (df['Diabetes'] == 1) & (df['Alcoholism'] == 1 )\n",
    "diabetic_and_alcoholic.value_counts()"
   ]
  },
  {
   "cell_type": "code",
   "execution_count": 98,
   "id": "26e26c1c",
   "metadata": {},
   "outputs": [
    {
     "data": {
      "text/plain": [
       "332"
      ]
     },
     "execution_count": 98,
     "metadata": {},
     "output_type": "execute_result"
    }
   ],
   "source": [
    "# get the second line of the output above and assign it to total\n",
    "total = diabetic_and_alcoholic.value_counts()[1]\n",
    "total"
   ]
  },
  {
   "cell_type": "markdown",
   "id": "1a93f495",
   "metadata": {},
   "source": [
    "332 are diabetics and alcoholics"
   ]
  },
  {
   "cell_type": "markdown",
   "id": "f95ea281",
   "metadata": {},
   "source": [
    "### plot of the respective values of  the number of diabetic and alcoholic patients  that did not  show up against  those that did on a bar chart"
   ]
  },
  {
   "cell_type": "code",
   "execution_count": 99,
   "id": "f87fbb36",
   "metadata": {},
   "outputs": [
    {
     "data": {
      "image/png": "[encoded data removed]",
      "text/plain": [
       "<Figure size 640x480 with 1 Axes>"
      ]
     },
     "metadata": {},
     "output_type": "display_data"
    }
   ],
   "source": [
    "# plot of the respective values of the number of diabetic and alcoholic patients that did not show up \n",
    "# against those that did on a bar chart\n",
    "\n",
    "labels = np.array(['total number of diabetic and alcoholic patients','diabetic and alcoholic patients that did not show up', \n",
    "                  'diabetic and alcoholic patients that showed up'])\n",
    "freq = np.array([total, dia_and_alco_no_show , dia_and_alco_show  ])\n",
    "color = ['red', 'blue', 'green']\n",
    "\n",
    "plt.barh(labels, freq, color = color, label = labels);\n",
    "plt.xlabel('values')\n",
    "plt.ylabel('diabetics and alcoholics')\n",
    "plt.title('diabetics and alcoholics that showed up against those that did not');\n",
    "plt.legend();"
   ]
  },
  {
   "cell_type": "markdown",
   "id": "3375fff2",
   "metadata": {},
   "source": [
    "### Out of 332 diabetics and alcoholics, roughly about 82% of them showed up for their appointment. i.e the majority while roughly 18% of them did not show up."
   ]
  },
  {
   "cell_type": "markdown",
   "id": "0cdfb090",
   "metadata": {},
   "source": [
    "# Conclusion\n",
    "A large number of the people are females and thus\n",
    "much of my analyses were conducted on the female gender where I took a look at those who are diabetic or not among which some were children.\n",
    "Also I was interested in those that received sms and showed up against those that didn't receive any sms but still showed up(nothing conclusive can be deducted out of that, as to whether the sms played a major part in they showing up or not as other factors haved to be considered before any solid assumption/conclusion can be made )\n",
    "\n",
    "## Limitation\n",
    "Ideally, I did not really encounter any limitations per se, per my analyses. But then again, per my analyses the sms received  or not is not enough predictor to determine whether or not a patient will show up for their appointment as other factors have to be considered too."
   ]
  }
 ],
 "metadata": {
  "kernelspec": {
   "display_name": "Python 3 (ipykernel)",
   "language": "python",
   "name": "python3"
  },
  "language_info": {
   "codemirror_mode": {
    "name": "ipython",
    "version": 3
   },
   "file_extension": ".py",
   "mimetype": "text/x-python",
   "name": "python",
   "nbconvert_exporter": "python",
   "pygments_lexer": "ipython3",
   "version": "3.9.1"
  }
 },
 "nbformat": 4,
 "nbformat_minor": 5
}
